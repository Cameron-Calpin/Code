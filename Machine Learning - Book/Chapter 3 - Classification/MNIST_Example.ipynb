{
 "cells": [
  {
   "cell_type": "code",
   "execution_count": 1,
   "metadata": {},
   "outputs": [
    {
     "data": {
      "text/plain": [
       "{'DESCR': \"**Author**: Yann LeCun, Corinna Cortes, Christopher J.C. Burges  \\n**Source**: [MNIST Website](http://yann.lecun.com/exdb/mnist/) - Date unknown  \\n**Please cite**:  \\n\\nThe MNIST database of handwritten digits with 784 features, raw data available at: http://yann.lecun.com/exdb/mnist/. It can be split in a training set of the first 60,000 examples, and a test set of 10,000 examples  \\n\\nIt is a subset of a larger set available from NIST. The digits have been size-normalized and centered in a fixed-size image. It is a good database for people who want to try learning techniques and pattern recognition methods on real-world data while spending minimal efforts on preprocessing and formatting. The original black and white (bilevel) images from NIST were size normalized to fit in a 20x20 pixel box while preserving their aspect ratio. The resulting images contain grey levels as a result of the anti-aliasing technique used by the normalization algorithm. the images were centered in a 28x28 image by computing the center of mass of the pixels, and translating the image so as to position this point at the center of the 28x28 field.  \\n\\nWith some classification methods (particularly template-based methods, such as SVM and K-nearest neighbors), the error rate improves when the digits are centered by bounding box rather than center of mass. If you do this kind of pre-processing, you should report it in your publications. The MNIST database was constructed from NIST's NIST originally designated SD-3 as their training set and SD-1 as their test set. However, SD-3 is much cleaner and easier to recognize than SD-1. The reason for this can be found on the fact that SD-3 was collected among Census Bureau employees, while SD-1 was collected among high-school students. Drawing sensible conclusions from learning experiments requires that the result be independent of the choice of training set and test among the complete set of samples. Therefore it was necessary to build a new database by mixing NIST's datasets.  \\n\\nThe MNIST training set is composed of 30,000 patterns from SD-3 and 30,000 patterns from SD-1. Our test set was composed of 5,000 patterns from SD-3 and 5,000 patterns from SD-1. The 60,000 pattern training set contained examples from approximately 250 writers. We made sure that the sets of writers of the training set and test set were disjoint. SD-1 contains 58,527 digit images written by 500 different writers. In contrast to SD-3, where blocks of data from each writer appeared in sequence, the data in SD-1 is scrambled. Writer identities for SD-1 is available and we used this information to unscramble the writers. We then split SD-1 in two: characters written by the first 250 writers went into our new training set. The remaining 250 writers were placed in our test set. Thus we had two sets with nearly 30,000 examples each. The new training set was completed with enough examples from SD-3, starting at pattern # 0, to make a full set of 60,000 training patterns. Similarly, the new test set was completed with SD-3 examples starting at pattern # 35,000 to make a full set with 60,000 test patterns. Only a subset of 10,000 test images (5,000 from SD-1 and 5,000 from SD-3) is available on this site. The full 60,000 sample training set is available.\\n\\nDownloaded from openml.org.\",\n",
       " 'categories': {},\n",
       " 'data': array([[0., 0., 0., ..., 0., 0., 0.],\n",
       "        [0., 0., 0., ..., 0., 0., 0.],\n",
       "        [0., 0., 0., ..., 0., 0., 0.],\n",
       "        ...,\n",
       "        [0., 0., 0., ..., 0., 0., 0.],\n",
       "        [0., 0., 0., ..., 0., 0., 0.],\n",
       "        [0., 0., 0., ..., 0., 0., 0.]]),\n",
       " 'details': {'default_target_attribute': 'class',\n",
       "  'file_id': '52667',\n",
       "  'format': 'ARFF',\n",
       "  'id': '554',\n",
       "  'licence': 'Public',\n",
       "  'md5_checksum': '0298d579eb1b86163de7723944c7e495',\n",
       "  'name': 'mnist_784',\n",
       "  'processing_date': '2018-10-03 21:23:30',\n",
       "  'status': 'active',\n",
       "  'tag': ['AzurePilot',\n",
       "   'OpenML-CC18',\n",
       "   'OpenML100',\n",
       "   'study_1',\n",
       "   'study_123',\n",
       "   'study_41',\n",
       "   'study_99',\n",
       "   'vision'],\n",
       "  'upload_date': '2014-09-29T03:28:38',\n",
       "  'url': 'https://www.openml.org/data/v1/download/52667/mnist_784.arff',\n",
       "  'version': '1',\n",
       "  'visibility': 'public'},\n",
       " 'feature_names': ['pixel1',\n",
       "  'pixel2',\n",
       "  'pixel3',\n",
       "  'pixel4',\n",
       "  'pixel5',\n",
       "  'pixel6',\n",
       "  'pixel7',\n",
       "  'pixel8',\n",
       "  'pixel9',\n",
       "  'pixel10',\n",
       "  'pixel11',\n",
       "  'pixel12',\n",
       "  'pixel13',\n",
       "  'pixel14',\n",
       "  'pixel15',\n",
       "  'pixel16',\n",
       "  'pixel17',\n",
       "  'pixel18',\n",
       "  'pixel19',\n",
       "  'pixel20',\n",
       "  'pixel21',\n",
       "  'pixel22',\n",
       "  'pixel23',\n",
       "  'pixel24',\n",
       "  'pixel25',\n",
       "  'pixel26',\n",
       "  'pixel27',\n",
       "  'pixel28',\n",
       "  'pixel29',\n",
       "  'pixel30',\n",
       "  'pixel31',\n",
       "  'pixel32',\n",
       "  'pixel33',\n",
       "  'pixel34',\n",
       "  'pixel35',\n",
       "  'pixel36',\n",
       "  'pixel37',\n",
       "  'pixel38',\n",
       "  'pixel39',\n",
       "  'pixel40',\n",
       "  'pixel41',\n",
       "  'pixel42',\n",
       "  'pixel43',\n",
       "  'pixel44',\n",
       "  'pixel45',\n",
       "  'pixel46',\n",
       "  'pixel47',\n",
       "  'pixel48',\n",
       "  'pixel49',\n",
       "  'pixel50',\n",
       "  'pixel51',\n",
       "  'pixel52',\n",
       "  'pixel53',\n",
       "  'pixel54',\n",
       "  'pixel55',\n",
       "  'pixel56',\n",
       "  'pixel57',\n",
       "  'pixel58',\n",
       "  'pixel59',\n",
       "  'pixel60',\n",
       "  'pixel61',\n",
       "  'pixel62',\n",
       "  'pixel63',\n",
       "  'pixel64',\n",
       "  'pixel65',\n",
       "  'pixel66',\n",
       "  'pixel67',\n",
       "  'pixel68',\n",
       "  'pixel69',\n",
       "  'pixel70',\n",
       "  'pixel71',\n",
       "  'pixel72',\n",
       "  'pixel73',\n",
       "  'pixel74',\n",
       "  'pixel75',\n",
       "  'pixel76',\n",
       "  'pixel77',\n",
       "  'pixel78',\n",
       "  'pixel79',\n",
       "  'pixel80',\n",
       "  'pixel81',\n",
       "  'pixel82',\n",
       "  'pixel83',\n",
       "  'pixel84',\n",
       "  'pixel85',\n",
       "  'pixel86',\n",
       "  'pixel87',\n",
       "  'pixel88',\n",
       "  'pixel89',\n",
       "  'pixel90',\n",
       "  'pixel91',\n",
       "  'pixel92',\n",
       "  'pixel93',\n",
       "  'pixel94',\n",
       "  'pixel95',\n",
       "  'pixel96',\n",
       "  'pixel97',\n",
       "  'pixel98',\n",
       "  'pixel99',\n",
       "  'pixel100',\n",
       "  'pixel101',\n",
       "  'pixel102',\n",
       "  'pixel103',\n",
       "  'pixel104',\n",
       "  'pixel105',\n",
       "  'pixel106',\n",
       "  'pixel107',\n",
       "  'pixel108',\n",
       "  'pixel109',\n",
       "  'pixel110',\n",
       "  'pixel111',\n",
       "  'pixel112',\n",
       "  'pixel113',\n",
       "  'pixel114',\n",
       "  'pixel115',\n",
       "  'pixel116',\n",
       "  'pixel117',\n",
       "  'pixel118',\n",
       "  'pixel119',\n",
       "  'pixel120',\n",
       "  'pixel121',\n",
       "  'pixel122',\n",
       "  'pixel123',\n",
       "  'pixel124',\n",
       "  'pixel125',\n",
       "  'pixel126',\n",
       "  'pixel127',\n",
       "  'pixel128',\n",
       "  'pixel129',\n",
       "  'pixel130',\n",
       "  'pixel131',\n",
       "  'pixel132',\n",
       "  'pixel133',\n",
       "  'pixel134',\n",
       "  'pixel135',\n",
       "  'pixel136',\n",
       "  'pixel137',\n",
       "  'pixel138',\n",
       "  'pixel139',\n",
       "  'pixel140',\n",
       "  'pixel141',\n",
       "  'pixel142',\n",
       "  'pixel143',\n",
       "  'pixel144',\n",
       "  'pixel145',\n",
       "  'pixel146',\n",
       "  'pixel147',\n",
       "  'pixel148',\n",
       "  'pixel149',\n",
       "  'pixel150',\n",
       "  'pixel151',\n",
       "  'pixel152',\n",
       "  'pixel153',\n",
       "  'pixel154',\n",
       "  'pixel155',\n",
       "  'pixel156',\n",
       "  'pixel157',\n",
       "  'pixel158',\n",
       "  'pixel159',\n",
       "  'pixel160',\n",
       "  'pixel161',\n",
       "  'pixel162',\n",
       "  'pixel163',\n",
       "  'pixel164',\n",
       "  'pixel165',\n",
       "  'pixel166',\n",
       "  'pixel167',\n",
       "  'pixel168',\n",
       "  'pixel169',\n",
       "  'pixel170',\n",
       "  'pixel171',\n",
       "  'pixel172',\n",
       "  'pixel173',\n",
       "  'pixel174',\n",
       "  'pixel175',\n",
       "  'pixel176',\n",
       "  'pixel177',\n",
       "  'pixel178',\n",
       "  'pixel179',\n",
       "  'pixel180',\n",
       "  'pixel181',\n",
       "  'pixel182',\n",
       "  'pixel183',\n",
       "  'pixel184',\n",
       "  'pixel185',\n",
       "  'pixel186',\n",
       "  'pixel187',\n",
       "  'pixel188',\n",
       "  'pixel189',\n",
       "  'pixel190',\n",
       "  'pixel191',\n",
       "  'pixel192',\n",
       "  'pixel193',\n",
       "  'pixel194',\n",
       "  'pixel195',\n",
       "  'pixel196',\n",
       "  'pixel197',\n",
       "  'pixel198',\n",
       "  'pixel199',\n",
       "  'pixel200',\n",
       "  'pixel201',\n",
       "  'pixel202',\n",
       "  'pixel203',\n",
       "  'pixel204',\n",
       "  'pixel205',\n",
       "  'pixel206',\n",
       "  'pixel207',\n",
       "  'pixel208',\n",
       "  'pixel209',\n",
       "  'pixel210',\n",
       "  'pixel211',\n",
       "  'pixel212',\n",
       "  'pixel213',\n",
       "  'pixel214',\n",
       "  'pixel215',\n",
       "  'pixel216',\n",
       "  'pixel217',\n",
       "  'pixel218',\n",
       "  'pixel219',\n",
       "  'pixel220',\n",
       "  'pixel221',\n",
       "  'pixel222',\n",
       "  'pixel223',\n",
       "  'pixel224',\n",
       "  'pixel225',\n",
       "  'pixel226',\n",
       "  'pixel227',\n",
       "  'pixel228',\n",
       "  'pixel229',\n",
       "  'pixel230',\n",
       "  'pixel231',\n",
       "  'pixel232',\n",
       "  'pixel233',\n",
       "  'pixel234',\n",
       "  'pixel235',\n",
       "  'pixel236',\n",
       "  'pixel237',\n",
       "  'pixel238',\n",
       "  'pixel239',\n",
       "  'pixel240',\n",
       "  'pixel241',\n",
       "  'pixel242',\n",
       "  'pixel243',\n",
       "  'pixel244',\n",
       "  'pixel245',\n",
       "  'pixel246',\n",
       "  'pixel247',\n",
       "  'pixel248',\n",
       "  'pixel249',\n",
       "  'pixel250',\n",
       "  'pixel251',\n",
       "  'pixel252',\n",
       "  'pixel253',\n",
       "  'pixel254',\n",
       "  'pixel255',\n",
       "  'pixel256',\n",
       "  'pixel257',\n",
       "  'pixel258',\n",
       "  'pixel259',\n",
       "  'pixel260',\n",
       "  'pixel261',\n",
       "  'pixel262',\n",
       "  'pixel263',\n",
       "  'pixel264',\n",
       "  'pixel265',\n",
       "  'pixel266',\n",
       "  'pixel267',\n",
       "  'pixel268',\n",
       "  'pixel269',\n",
       "  'pixel270',\n",
       "  'pixel271',\n",
       "  'pixel272',\n",
       "  'pixel273',\n",
       "  'pixel274',\n",
       "  'pixel275',\n",
       "  'pixel276',\n",
       "  'pixel277',\n",
       "  'pixel278',\n",
       "  'pixel279',\n",
       "  'pixel280',\n",
       "  'pixel281',\n",
       "  'pixel282',\n",
       "  'pixel283',\n",
       "  'pixel284',\n",
       "  'pixel285',\n",
       "  'pixel286',\n",
       "  'pixel287',\n",
       "  'pixel288',\n",
       "  'pixel289',\n",
       "  'pixel290',\n",
       "  'pixel291',\n",
       "  'pixel292',\n",
       "  'pixel293',\n",
       "  'pixel294',\n",
       "  'pixel295',\n",
       "  'pixel296',\n",
       "  'pixel297',\n",
       "  'pixel298',\n",
       "  'pixel299',\n",
       "  'pixel300',\n",
       "  'pixel301',\n",
       "  'pixel302',\n",
       "  'pixel303',\n",
       "  'pixel304',\n",
       "  'pixel305',\n",
       "  'pixel306',\n",
       "  'pixel307',\n",
       "  'pixel308',\n",
       "  'pixel309',\n",
       "  'pixel310',\n",
       "  'pixel311',\n",
       "  'pixel312',\n",
       "  'pixel313',\n",
       "  'pixel314',\n",
       "  'pixel315',\n",
       "  'pixel316',\n",
       "  'pixel317',\n",
       "  'pixel318',\n",
       "  'pixel319',\n",
       "  'pixel320',\n",
       "  'pixel321',\n",
       "  'pixel322',\n",
       "  'pixel323',\n",
       "  'pixel324',\n",
       "  'pixel325',\n",
       "  'pixel326',\n",
       "  'pixel327',\n",
       "  'pixel328',\n",
       "  'pixel329',\n",
       "  'pixel330',\n",
       "  'pixel331',\n",
       "  'pixel332',\n",
       "  'pixel333',\n",
       "  'pixel334',\n",
       "  'pixel335',\n",
       "  'pixel336',\n",
       "  'pixel337',\n",
       "  'pixel338',\n",
       "  'pixel339',\n",
       "  'pixel340',\n",
       "  'pixel341',\n",
       "  'pixel342',\n",
       "  'pixel343',\n",
       "  'pixel344',\n",
       "  'pixel345',\n",
       "  'pixel346',\n",
       "  'pixel347',\n",
       "  'pixel348',\n",
       "  'pixel349',\n",
       "  'pixel350',\n",
       "  'pixel351',\n",
       "  'pixel352',\n",
       "  'pixel353',\n",
       "  'pixel354',\n",
       "  'pixel355',\n",
       "  'pixel356',\n",
       "  'pixel357',\n",
       "  'pixel358',\n",
       "  'pixel359',\n",
       "  'pixel360',\n",
       "  'pixel361',\n",
       "  'pixel362',\n",
       "  'pixel363',\n",
       "  'pixel364',\n",
       "  'pixel365',\n",
       "  'pixel366',\n",
       "  'pixel367',\n",
       "  'pixel368',\n",
       "  'pixel369',\n",
       "  'pixel370',\n",
       "  'pixel371',\n",
       "  'pixel372',\n",
       "  'pixel373',\n",
       "  'pixel374',\n",
       "  'pixel375',\n",
       "  'pixel376',\n",
       "  'pixel377',\n",
       "  'pixel378',\n",
       "  'pixel379',\n",
       "  'pixel380',\n",
       "  'pixel381',\n",
       "  'pixel382',\n",
       "  'pixel383',\n",
       "  'pixel384',\n",
       "  'pixel385',\n",
       "  'pixel386',\n",
       "  'pixel387',\n",
       "  'pixel388',\n",
       "  'pixel389',\n",
       "  'pixel390',\n",
       "  'pixel391',\n",
       "  'pixel392',\n",
       "  'pixel393',\n",
       "  'pixel394',\n",
       "  'pixel395',\n",
       "  'pixel396',\n",
       "  'pixel397',\n",
       "  'pixel398',\n",
       "  'pixel399',\n",
       "  'pixel400',\n",
       "  'pixel401',\n",
       "  'pixel402',\n",
       "  'pixel403',\n",
       "  'pixel404',\n",
       "  'pixel405',\n",
       "  'pixel406',\n",
       "  'pixel407',\n",
       "  'pixel408',\n",
       "  'pixel409',\n",
       "  'pixel410',\n",
       "  'pixel411',\n",
       "  'pixel412',\n",
       "  'pixel413',\n",
       "  'pixel414',\n",
       "  'pixel415',\n",
       "  'pixel416',\n",
       "  'pixel417',\n",
       "  'pixel418',\n",
       "  'pixel419',\n",
       "  'pixel420',\n",
       "  'pixel421',\n",
       "  'pixel422',\n",
       "  'pixel423',\n",
       "  'pixel424',\n",
       "  'pixel425',\n",
       "  'pixel426',\n",
       "  'pixel427',\n",
       "  'pixel428',\n",
       "  'pixel429',\n",
       "  'pixel430',\n",
       "  'pixel431',\n",
       "  'pixel432',\n",
       "  'pixel433',\n",
       "  'pixel434',\n",
       "  'pixel435',\n",
       "  'pixel436',\n",
       "  'pixel437',\n",
       "  'pixel438',\n",
       "  'pixel439',\n",
       "  'pixel440',\n",
       "  'pixel441',\n",
       "  'pixel442',\n",
       "  'pixel443',\n",
       "  'pixel444',\n",
       "  'pixel445',\n",
       "  'pixel446',\n",
       "  'pixel447',\n",
       "  'pixel448',\n",
       "  'pixel449',\n",
       "  'pixel450',\n",
       "  'pixel451',\n",
       "  'pixel452',\n",
       "  'pixel453',\n",
       "  'pixel454',\n",
       "  'pixel455',\n",
       "  'pixel456',\n",
       "  'pixel457',\n",
       "  'pixel458',\n",
       "  'pixel459',\n",
       "  'pixel460',\n",
       "  'pixel461',\n",
       "  'pixel462',\n",
       "  'pixel463',\n",
       "  'pixel464',\n",
       "  'pixel465',\n",
       "  'pixel466',\n",
       "  'pixel467',\n",
       "  'pixel468',\n",
       "  'pixel469',\n",
       "  'pixel470',\n",
       "  'pixel471',\n",
       "  'pixel472',\n",
       "  'pixel473',\n",
       "  'pixel474',\n",
       "  'pixel475',\n",
       "  'pixel476',\n",
       "  'pixel477',\n",
       "  'pixel478',\n",
       "  'pixel479',\n",
       "  'pixel480',\n",
       "  'pixel481',\n",
       "  'pixel482',\n",
       "  'pixel483',\n",
       "  'pixel484',\n",
       "  'pixel485',\n",
       "  'pixel486',\n",
       "  'pixel487',\n",
       "  'pixel488',\n",
       "  'pixel489',\n",
       "  'pixel490',\n",
       "  'pixel491',\n",
       "  'pixel492',\n",
       "  'pixel493',\n",
       "  'pixel494',\n",
       "  'pixel495',\n",
       "  'pixel496',\n",
       "  'pixel497',\n",
       "  'pixel498',\n",
       "  'pixel499',\n",
       "  'pixel500',\n",
       "  'pixel501',\n",
       "  'pixel502',\n",
       "  'pixel503',\n",
       "  'pixel504',\n",
       "  'pixel505',\n",
       "  'pixel506',\n",
       "  'pixel507',\n",
       "  'pixel508',\n",
       "  'pixel509',\n",
       "  'pixel510',\n",
       "  'pixel511',\n",
       "  'pixel512',\n",
       "  'pixel513',\n",
       "  'pixel514',\n",
       "  'pixel515',\n",
       "  'pixel516',\n",
       "  'pixel517',\n",
       "  'pixel518',\n",
       "  'pixel519',\n",
       "  'pixel520',\n",
       "  'pixel521',\n",
       "  'pixel522',\n",
       "  'pixel523',\n",
       "  'pixel524',\n",
       "  'pixel525',\n",
       "  'pixel526',\n",
       "  'pixel527',\n",
       "  'pixel528',\n",
       "  'pixel529',\n",
       "  'pixel530',\n",
       "  'pixel531',\n",
       "  'pixel532',\n",
       "  'pixel533',\n",
       "  'pixel534',\n",
       "  'pixel535',\n",
       "  'pixel536',\n",
       "  'pixel537',\n",
       "  'pixel538',\n",
       "  'pixel539',\n",
       "  'pixel540',\n",
       "  'pixel541',\n",
       "  'pixel542',\n",
       "  'pixel543',\n",
       "  'pixel544',\n",
       "  'pixel545',\n",
       "  'pixel546',\n",
       "  'pixel547',\n",
       "  'pixel548',\n",
       "  'pixel549',\n",
       "  'pixel550',\n",
       "  'pixel551',\n",
       "  'pixel552',\n",
       "  'pixel553',\n",
       "  'pixel554',\n",
       "  'pixel555',\n",
       "  'pixel556',\n",
       "  'pixel557',\n",
       "  'pixel558',\n",
       "  'pixel559',\n",
       "  'pixel560',\n",
       "  'pixel561',\n",
       "  'pixel562',\n",
       "  'pixel563',\n",
       "  'pixel564',\n",
       "  'pixel565',\n",
       "  'pixel566',\n",
       "  'pixel567',\n",
       "  'pixel568',\n",
       "  'pixel569',\n",
       "  'pixel570',\n",
       "  'pixel571',\n",
       "  'pixel572',\n",
       "  'pixel573',\n",
       "  'pixel574',\n",
       "  'pixel575',\n",
       "  'pixel576',\n",
       "  'pixel577',\n",
       "  'pixel578',\n",
       "  'pixel579',\n",
       "  'pixel580',\n",
       "  'pixel581',\n",
       "  'pixel582',\n",
       "  'pixel583',\n",
       "  'pixel584',\n",
       "  'pixel585',\n",
       "  'pixel586',\n",
       "  'pixel587',\n",
       "  'pixel588',\n",
       "  'pixel589',\n",
       "  'pixel590',\n",
       "  'pixel591',\n",
       "  'pixel592',\n",
       "  'pixel593',\n",
       "  'pixel594',\n",
       "  'pixel595',\n",
       "  'pixel596',\n",
       "  'pixel597',\n",
       "  'pixel598',\n",
       "  'pixel599',\n",
       "  'pixel600',\n",
       "  'pixel601',\n",
       "  'pixel602',\n",
       "  'pixel603',\n",
       "  'pixel604',\n",
       "  'pixel605',\n",
       "  'pixel606',\n",
       "  'pixel607',\n",
       "  'pixel608',\n",
       "  'pixel609',\n",
       "  'pixel610',\n",
       "  'pixel611',\n",
       "  'pixel612',\n",
       "  'pixel613',\n",
       "  'pixel614',\n",
       "  'pixel615',\n",
       "  'pixel616',\n",
       "  'pixel617',\n",
       "  'pixel618',\n",
       "  'pixel619',\n",
       "  'pixel620',\n",
       "  'pixel621',\n",
       "  'pixel622',\n",
       "  'pixel623',\n",
       "  'pixel624',\n",
       "  'pixel625',\n",
       "  'pixel626',\n",
       "  'pixel627',\n",
       "  'pixel628',\n",
       "  'pixel629',\n",
       "  'pixel630',\n",
       "  'pixel631',\n",
       "  'pixel632',\n",
       "  'pixel633',\n",
       "  'pixel634',\n",
       "  'pixel635',\n",
       "  'pixel636',\n",
       "  'pixel637',\n",
       "  'pixel638',\n",
       "  'pixel639',\n",
       "  'pixel640',\n",
       "  'pixel641',\n",
       "  'pixel642',\n",
       "  'pixel643',\n",
       "  'pixel644',\n",
       "  'pixel645',\n",
       "  'pixel646',\n",
       "  'pixel647',\n",
       "  'pixel648',\n",
       "  'pixel649',\n",
       "  'pixel650',\n",
       "  'pixel651',\n",
       "  'pixel652',\n",
       "  'pixel653',\n",
       "  'pixel654',\n",
       "  'pixel655',\n",
       "  'pixel656',\n",
       "  'pixel657',\n",
       "  'pixel658',\n",
       "  'pixel659',\n",
       "  'pixel660',\n",
       "  'pixel661',\n",
       "  'pixel662',\n",
       "  'pixel663',\n",
       "  'pixel664',\n",
       "  'pixel665',\n",
       "  'pixel666',\n",
       "  'pixel667',\n",
       "  'pixel668',\n",
       "  'pixel669',\n",
       "  'pixel670',\n",
       "  'pixel671',\n",
       "  'pixel672',\n",
       "  'pixel673',\n",
       "  'pixel674',\n",
       "  'pixel675',\n",
       "  'pixel676',\n",
       "  'pixel677',\n",
       "  'pixel678',\n",
       "  'pixel679',\n",
       "  'pixel680',\n",
       "  'pixel681',\n",
       "  'pixel682',\n",
       "  'pixel683',\n",
       "  'pixel684',\n",
       "  'pixel685',\n",
       "  'pixel686',\n",
       "  'pixel687',\n",
       "  'pixel688',\n",
       "  'pixel689',\n",
       "  'pixel690',\n",
       "  'pixel691',\n",
       "  'pixel692',\n",
       "  'pixel693',\n",
       "  'pixel694',\n",
       "  'pixel695',\n",
       "  'pixel696',\n",
       "  'pixel697',\n",
       "  'pixel698',\n",
       "  'pixel699',\n",
       "  'pixel700',\n",
       "  'pixel701',\n",
       "  'pixel702',\n",
       "  'pixel703',\n",
       "  'pixel704',\n",
       "  'pixel705',\n",
       "  'pixel706',\n",
       "  'pixel707',\n",
       "  'pixel708',\n",
       "  'pixel709',\n",
       "  'pixel710',\n",
       "  'pixel711',\n",
       "  'pixel712',\n",
       "  'pixel713',\n",
       "  'pixel714',\n",
       "  'pixel715',\n",
       "  'pixel716',\n",
       "  'pixel717',\n",
       "  'pixel718',\n",
       "  'pixel719',\n",
       "  'pixel720',\n",
       "  'pixel721',\n",
       "  'pixel722',\n",
       "  'pixel723',\n",
       "  'pixel724',\n",
       "  'pixel725',\n",
       "  'pixel726',\n",
       "  'pixel727',\n",
       "  'pixel728',\n",
       "  'pixel729',\n",
       "  'pixel730',\n",
       "  'pixel731',\n",
       "  'pixel732',\n",
       "  'pixel733',\n",
       "  'pixel734',\n",
       "  'pixel735',\n",
       "  'pixel736',\n",
       "  'pixel737',\n",
       "  'pixel738',\n",
       "  'pixel739',\n",
       "  'pixel740',\n",
       "  'pixel741',\n",
       "  'pixel742',\n",
       "  'pixel743',\n",
       "  'pixel744',\n",
       "  'pixel745',\n",
       "  'pixel746',\n",
       "  'pixel747',\n",
       "  'pixel748',\n",
       "  'pixel749',\n",
       "  'pixel750',\n",
       "  'pixel751',\n",
       "  'pixel752',\n",
       "  'pixel753',\n",
       "  'pixel754',\n",
       "  'pixel755',\n",
       "  'pixel756',\n",
       "  'pixel757',\n",
       "  'pixel758',\n",
       "  'pixel759',\n",
       "  'pixel760',\n",
       "  'pixel761',\n",
       "  'pixel762',\n",
       "  'pixel763',\n",
       "  'pixel764',\n",
       "  'pixel765',\n",
       "  'pixel766',\n",
       "  'pixel767',\n",
       "  'pixel768',\n",
       "  'pixel769',\n",
       "  'pixel770',\n",
       "  'pixel771',\n",
       "  'pixel772',\n",
       "  'pixel773',\n",
       "  'pixel774',\n",
       "  'pixel775',\n",
       "  'pixel776',\n",
       "  'pixel777',\n",
       "  'pixel778',\n",
       "  'pixel779',\n",
       "  'pixel780',\n",
       "  'pixel781',\n",
       "  'pixel782',\n",
       "  'pixel783',\n",
       "  'pixel784'],\n",
       " 'frame': None,\n",
       " 'target': array(['5', '0', '4', ..., '4', '5', '6'], dtype=object),\n",
       " 'target_names': ['class'],\n",
       " 'url': 'https://www.openml.org/d/554'}"
      ]
     },
     "execution_count": 1,
     "metadata": {},
     "output_type": "execute_result"
    }
   ],
   "source": [
    "from sklearn.datasets import fetch_openml\n",
    "mnist = fetch_openml('mnist_784')\n",
    "mnist"
   ]
  },
  {
   "cell_type": "code",
   "execution_count": 2,
   "metadata": {},
   "outputs": [
    {
     "name": "stdout",
     "output_type": "stream",
     "text": [
      "(70000, 784)\n",
      "(70000,)\n"
     ]
    }
   ],
   "source": [
    "X, y = mnist[\"data\"], mnist[\"target\"]\n",
    "print(X.shape)\n",
    "print(y.shape)"
   ]
  },
  {
   "cell_type": "code",
   "execution_count": 3,
   "metadata": {},
   "outputs": [
    {
     "data": {
      "image/png": "[encoded data removed]",
      "text/plain": [
       "<Figure size 432x288 with 1 Axes>"
      ]
     },
     "metadata": {},
     "output_type": "display_data"
    }
   ],
   "source": [
    "%matplotlib inline\n",
    "import matplotlib\n",
    "import matplotlib.pyplot as plt\n",
    "\n",
    "some_digit = X[27053]\n",
    "some_digit_image = some_digit.reshape(28, 28)\n",
    "\n",
    "plt.imshow(some_digit_image, cmap=matplotlib.cm.binary,\n",
    "          interpolation=\"nearest\")\n",
    "plt.axis(\"off\")\n",
    "plt.show()"
   ]
  },
  {
   "cell_type": "code",
   "execution_count": 4,
   "metadata": {
    "scrolled": true
   },
   "outputs": [
    {
     "data": {
      "text/plain": [
       "'5'"
      ]
     },
     "execution_count": 4,
     "metadata": {},
     "output_type": "execute_result"
    }
   ],
   "source": [
    "y[27053]"
   ]
  },
  {
   "cell_type": "code",
   "execution_count": 5,
   "metadata": {},
   "outputs": [
    {
     "name": "stdout",
     "output_type": "stream",
     "text": [
      "(784,)\n",
      "(28, 28)\n"
     ]
    },
    {
     "data": {
      "image/png": "[encoded data removed]",
      "text/plain": [
       "<Figure size 432x288 with 1 Axes>"
      ]
     },
     "metadata": {},
     "output_type": "display_data"
    }
   ],
   "source": [
    "X_train, X_test, y_train, y_test = X[:60000], X[60000:], y[:60000], y[60000:]\n",
    "\n",
    "import numpy as np\n",
    "\n",
    "shuffle_index = np.random.permutation(60000)\n",
    "X_train, y_train = X_train[shuffle_index], y_train[shuffle_index]\n",
    "\n",
    "five_digit = X_train[27050]\n",
    "print(five_digit.shape)\n",
    "five_digit_image = five_digit.reshape(28,28)\n",
    "print(five_digit_image.shape)\n",
    "plt.imshow(five_digit_image, cmap=matplotlib.cm.binary,\n",
    "          interpolation=\"nearest\")\n",
    "plt.axis(\"off\")\n",
    "plt.show()"
   ]
  },
  {
   "cell_type": "code",
   "execution_count": 6,
   "metadata": {},
   "outputs": [
    {
     "name": "stdout",
     "output_type": "stream",
     "text": [
      "False\n"
     ]
    },
    {
     "data": {
      "text/plain": [
       "array([False])"
      ]
     },
     "execution_count": 6,
     "metadata": {},
     "output_type": "execute_result"
    }
   ],
   "source": [
    "'''\n",
    "Identify one digit - number 5. We will use a binary classifier, \n",
    "capable of distinguishing between just two classes, 5 and not-5.\n",
    "'''\n",
    "y_train_5 = (y_train == '5') # True for all 5s, False for all other digits.\n",
    "print(y_train_5[27050])\n",
    "\n",
    "# Using Stochastic Gradient Descent classifier to train\n",
    "from sklearn.linear_model import SGDClassifier\n",
    "\n",
    "sgd_clf = SGDClassifier(random_state=42, n_jobs=-1)\n",
    "sgd_clf.fit(X_train, y_train_5)\n",
    "\n",
    "sgd_clf.predict([five_digit])"
   ]
  },
  {
   "cell_type": "code",
   "execution_count": 7,
   "metadata": {},
   "outputs": [
    {
     "data": {
      "text/plain": [
       "array([0.96145, 0.96855, 0.96965])"
      ]
     },
     "execution_count": 7,
     "metadata": {},
     "output_type": "execute_result"
    }
   ],
   "source": [
    "from sklearn.model_selection import cross_val_score\n",
    "cross_val_score(sgd_clf, X_train, y_train_5, cv=3, scoring=\"accuracy\")"
   ]
  },
  {
   "cell_type": "code",
   "execution_count": 8,
   "metadata": {},
   "outputs": [
    {
     "name": "stderr",
     "output_type": "stream",
     "text": [
      "/home/cameron/.local/lib/python3.6/site-packages/sklearn/model_selection/_split.py:296: FutureWarning: Setting a random_state has no effect since shuffle is False. This will raise an error in 0.24. You should leave random_state to its default (None), or set shuffle=True.\n",
      "  FutureWarning\n"
     ]
    },
    {
     "name": "stdout",
     "output_type": "stream",
     "text": [
      "0.96145\n",
      "0.96855\n",
      "0.96965\n"
     ]
    }
   ],
   "source": [
    "'''\n",
    "Implementing Cross-Validation\n",
    "'''\n",
    "from sklearn.model_selection import StratifiedKFold\n",
    "from sklearn.base import clone\n",
    "\n",
    "skfolds = StratifiedKFold(n_splits=3, random_state=42)\n",
    "\n",
    "for train_index, test_index in skfolds.split(X_train, y_train_5):\n",
    "    clone_clf = clone(sgd_clf)\n",
    "    X_train_folds = X_train[train_index]\n",
    "    y_train_folds = y_train_5[train_index]\n",
    "    X_test_fold = X_train[test_index]\n",
    "    y_test_fold = y_train_5[test_index]\n",
    "    \n",
    "    clone_clf.fit(X_train_folds, y_train_folds)\n",
    "    y_pred = clone_clf.predict(X_test_fold)\n",
    "    n_correct = sum(y_pred == y_test_fold)\n",
    "    print(n_correct / len(y_pred))"
   ]
  },
  {
   "cell_type": "code",
   "execution_count": 9,
   "metadata": {},
   "outputs": [
    {
     "data": {
      "text/plain": [
       "array([0.9117 , 0.90995, 0.9073 ])"
      ]
     },
     "execution_count": 9,
     "metadata": {},
     "output_type": "execute_result"
    }
   ],
   "source": [
    "'''\n",
    "Now to classify every single image in the \"not-5\" class\n",
    "'''\n",
    "from sklearn.base import BaseEstimator\n",
    "\n",
    "class Never5Classifier(BaseEstimator):\n",
    "    def fit(self, X, y=None):\n",
    "        pass\n",
    "    def predict(self, X):\n",
    "        return np.zeros((len(X), 1), dtype=bool)\n",
    "    \n",
    "never_5_clf = Never5Classifier()\n",
    "cross_val_score(never_5_clf, X_train, y_train_5, cv=3, scoring=\"accuracy\")"
   ]
  },
  {
   "cell_type": "markdown",
   "metadata": {},
   "source": [
    "# Confusion Matrix"
   ]
  },
  {
   "cell_type": "code",
   "execution_count": 10,
   "metadata": {},
   "outputs": [
    {
     "data": {
      "text/plain": [
       "array([[53855,   724],\n",
       "       [ 1283,  4138]])"
      ]
     },
     "execution_count": 10,
     "metadata": {},
     "output_type": "execute_result"
    }
   ],
   "source": [
    "'''\n",
    "cross_val_predict() performs K-fold cross-validation, but instead of returning\n",
    "the evaluation scores, it returns the predictions made on each test fold. This\n",
    "means that you get a prediction for each instance made by a model that never\n",
    "saw the data during training. \n",
    "'''\n",
    "from sklearn.model_selection import cross_val_predict\n",
    "\n",
    "y_train_pred = cross_val_predict(sgd_clf, X_train, y_train_5, cv=3)\n",
    "\n",
    "from sklearn.metrics import confusion_matrix\n",
    "confusion_matrix(y_train_5, y_train_pred)"
   ]
  },
  {
   "cell_type": "code",
   "execution_count": 11,
   "metadata": {},
   "outputs": [
    {
     "name": "stdout",
     "output_type": "stream",
     "text": [
      "Precision:  0.851090086384204\n",
      "Recall:  0.7633277992990223\n",
      "0.7633277992990223\n"
     ]
    }
   ],
   "source": [
    "from sklearn.metrics import precision_score, recall_score\n",
    "print(\"Precision: \", precision_score(y_train_5, y_train_pred))\n",
    "print(\"Recall: \", recall_score(y_train_5, y_train_pred))\n",
    "cfm = confusion_matrix(y_train_5, y_train_pred)\n",
    "recal = (cfm[1][1]) / (cfm[1][1] + cfm[1][0])\n",
    "print(recal)"
   ]
  },
  {
   "cell_type": "code",
   "execution_count": 12,
   "metadata": {},
   "outputs": [
    {
     "data": {
      "text/plain": [
       "0.8048234950889818"
      ]
     },
     "execution_count": 12,
     "metadata": {},
     "output_type": "execute_result"
    }
   ],
   "source": [
    "from sklearn.metrics import f1_score\n",
    "f1_score(y_train_5, y_train_pred)"
   ]
  },
  {
   "cell_type": "code",
   "execution_count": 13,
   "metadata": {},
   "outputs": [
    {
     "name": "stdout",
     "output_type": "stream",
     "text": [
      "[-1401.75314776]\n",
      "[False]\n"
     ]
    }
   ],
   "source": [
    "'''\n",
    "Recall/Precision - decision tradeoff\n",
    "'''\n",
    "y_scores = sgd_clf.decision_function([some_digit])\n",
    "print(y_scores)\n",
    "threshold = 0\n",
    "y_some_digit_pred = (y_scores > threshold)\n",
    "print(y_some_digit_pred)"
   ]
  },
  {
   "cell_type": "code",
   "execution_count": 14,
   "metadata": {},
   "outputs": [
    {
     "data": {
      "text/plain": [
       "array([ True])"
      ]
     },
     "execution_count": 14,
     "metadata": {},
     "output_type": "execute_result"
    }
   ],
   "source": [
    "threshold = -300000\n",
    "y_some_digit_pred = (y_scores > threshold)\n",
    "y_some_digit_pred"
   ]
  },
  {
   "cell_type": "code",
   "execution_count": 15,
   "metadata": {},
   "outputs": [
    {
     "data": {
      "image/png": "[encoded data removed]",
      "text/plain": [
       "<Figure size 432x288 with 1 Axes>"
      ]
     },
     "metadata": {},
     "output_type": "display_data"
    }
   ],
   "source": [
    "y_scores = cross_val_predict(sgd_clf, X_train, y_train_5, cv=3,\n",
    "                            method=\"decision_function\")\n",
    "\n",
    "from sklearn.metrics import precision_recall_curve\n",
    "\n",
    "precisions, recalls, thresholds = precision_recall_curve(y_train_5, y_scores)\n",
    "\n",
    "def plot_precision_recall_vs_threshold(precisions, recalls, thresholds):\n",
    "    plt.plot(thresholds, precisions[:-1], \"b--\", label=\"Precision\")\n",
    "    plt.plot(thresholds, recalls[:-1], \"g-\", label=\"Recall\")\n",
    "    plt.xlabel(\"Threshold\")\n",
    "    plt.legend(loc=\"center left\")\n",
    "    plt.ylim([0, 1])\n",
    "    \n",
    "plot_precision_recall_vs_threshold(precisions, recalls, thresholds)\n",
    "plt.show()"
   ]
  },
  {
   "cell_type": "code",
   "execution_count": 16,
   "metadata": {},
   "outputs": [
    {
     "name": "stdout",
     "output_type": "stream",
     "text": [
      "Precision:  0.8830635969911101\n",
      "Recall:  0.7146282973621103\n"
     ]
    },
    {
     "data": {
      "image/png": "[encoded data removed]",
      "text/plain": [
       "<Figure size 432x288 with 1 Axes>"
      ]
     },
     "metadata": {},
     "output_type": "display_data"
    }
   ],
   "source": [
    "y_train_pred_90 = (y_scores > 800)\n",
    "print(\"Precision: \", precision_score(y_train_5, y_train_pred_90))\n",
    "print(\"Recall: \", recall_score(y_train_5, y_train_pred_90))\n",
    "\n",
    "def plot_precision_vs_recall(precisions, recalls):\n",
    "    plt.plot(recalls[:-1], precisions[:-1], \"g-\")\n",
    "    plt.xlabel(\"Recall\")\n",
    "    plt.ylabel(\"Precision\")\n",
    "    \n",
    "plot_precision_vs_recall(precisions, recalls)\n",
    "plt.show()"
   ]
  },
  {
   "cell_type": "markdown",
   "metadata": {},
   "source": [
    "# The ROC Curve"
   ]
  },
  {
   "cell_type": "code",
   "execution_count": 17,
   "metadata": {},
   "outputs": [
    {
     "data": {
      "image/png": "[encoded data removed]",
      "text/plain": [
       "<Figure size 432x288 with 1 Axes>"
      ]
     },
     "metadata": {},
     "output_type": "display_data"
    }
   ],
   "source": [
    "from sklearn.metrics import roc_curve\n",
    "\n",
    "fpr, tpr, thresholds = roc_curve(y_train_5, y_scores)\n",
    "\n",
    "def plot_roc_curve(fpr, tpr, label=None):\n",
    "    plt.plot(fpr, tpr, linewidth=2, label=label)\n",
    "    plt.plot([0, 1], [0, 1], 'k--')\n",
    "    plt.axis([0, 1, 0, 1])\n",
    "    plt.xlabel('False Positive Rate')\n",
    "    plt.ylabel('True Positive Rate')\n",
    "    \n",
    "plot_roc_curve(fpr, tpr)\n",
    "plt.show()"
   ]
  },
  {
   "cell_type": "code",
   "execution_count": 18,
   "metadata": {},
   "outputs": [
    {
     "data": {
      "text/plain": [
       "0.9618790758631482"
      ]
     },
     "execution_count": 18,
     "metadata": {},
     "output_type": "execute_result"
    }
   ],
   "source": [
    "from sklearn.metrics import roc_auc_score\n",
    "roc_auc_score(y_train_5, y_scores)"
   ]
  },
  {
   "cell_type": "code",
   "execution_count": 19,
   "metadata": {},
   "outputs": [
    {
     "data": {
      "image/png": "[encoded data removed]",
      "text/plain": [
       "<Figure size 432x288 with 1 Axes>"
      ]
     },
     "metadata": {},
     "output_type": "display_data"
    }
   ],
   "source": [
    "'''\n",
    "Get scores for each instance in the training set. predict_proba() method returns\n",
    "an array containing a row per instance and a column per class, each containing the\n",
    "probability that the given instance belongs to the given class.\n",
    "'''\n",
    "from sklearn.ensemble import RandomForestClassifier\n",
    "import sys\n",
    "\n",
    "forest_clf = RandomForestClassifier(random_state=42)\n",
    "y_probas_forest = cross_val_predict(forest_clf, X_train, y_train_5, cv=3,\n",
    "                                   method=\"predict_proba\")\n",
    "\n",
    "# To plot a ROC curve, you need scores, not probabilities.\n",
    "y_scores_forest = y_probas_forest[:, 1] # score = proba of positive class\n",
    "np.set_printoptions(threshold=sys.maxsize)\n",
    "# print(y_probas_forest)\n",
    "# print(y_scores_forest)\n",
    "fpr_forest, tpr_forest, thresholds_forest = roc_curve(y_train_5, y_scores_forest)\n",
    "\n",
    "plt.plot(fpr, tpr, \"b:\", label=\"SGD\")\n",
    "plot_roc_curve(fpr_forest, tpr_forest, \"Random Forest\")\n",
    "plt.legend(loc=\"lower right\")\n",
    "plt.show()"
   ]
  },
  {
   "cell_type": "code",
   "execution_count": 20,
   "metadata": {},
   "outputs": [
    {
     "name": "stdout",
     "output_type": "stream",
     "text": [
      "ROC AUC Score: 0.9984375378065812\n",
      "RF Precision Score: 0.9903361344537815\n",
      "RF Recal Score: 0.8695812580704667\n"
     ]
    }
   ],
   "source": [
    "print(\"ROC AUC Score:\", roc_auc_score(y_train_5, y_scores_forest))\n",
    "y_train_pred_forest = cross_val_predict(forest_clf, X_train, y_train_5, cv=3)\n",
    "print(\"RF Precision Score:\", precision_score(y_train_5, y_train_pred_forest))\n",
    "print(\"RF Recal Score:\", recall_score(y_train_5, y_train_pred_forest))"
   ]
  },
  {
   "cell_type": "markdown",
   "metadata": {},
   "source": [
    "# Multiclass Classification"
   ]
  },
  {
   "cell_type": "code",
   "execution_count": 21,
   "metadata": {},
   "outputs": [
    {
     "data": {
      "text/plain": [
       "array(['5'], dtype='<U1')"
      ]
     },
     "execution_count": 21,
     "metadata": {},
     "output_type": "execute_result"
    }
   ],
   "source": [
    "'''\n",
    "When we use a binary classification algorithm for a multiclass classification task, it\n",
    "automatically runs one-versus-all (OvA) unless the algorithm is an SVM, then one-versus-one (OvO)\n",
    "'''\n",
    "sgd_clf.fit(X_train, y_train)\n",
    "sgd_clf.predict([some_digit])"
   ]
  },
  {
   "cell_type": "code",
   "execution_count": 22,
   "metadata": {},
   "outputs": [
    {
     "data": {
      "text/plain": [
       "array([[-10639.66049731, -25911.64422103, -16822.20977585,\n",
       "         -3275.21059054,  -9890.93100033,   1938.55433489,\n",
       "        -19297.74569233, -41444.67185499,  -4747.0608531 ,\n",
       "        -10419.42936782]])"
      ]
     },
     "execution_count": 22,
     "metadata": {},
     "output_type": "execute_result"
    }
   ],
   "source": [
    "some_digit_scores = sgd_clf.decision_function([some_digit])\n",
    "some_digit_scores"
   ]
  },
  {
   "cell_type": "code",
   "execution_count": 23,
   "metadata": {},
   "outputs": [
    {
     "name": "stdout",
     "output_type": "stream",
     "text": [
      "5\n",
      "['0' '1' '2' '3' '4' '5' '6' '7' '8' '9']\n",
      "5\n"
     ]
    }
   ],
   "source": [
    "print(np.argmax(some_digit_scores))\n",
    "print(sgd_clf.classes_)\n",
    "print(sgd_clf.classes_[5])"
   ]
  },
  {
   "cell_type": "code",
   "execution_count": 24,
   "metadata": {},
   "outputs": [
    {
     "name": "stdout",
     "output_type": "stream",
     "text": [
      "['5']\n",
      "45\n"
     ]
    }
   ],
   "source": [
    "from sklearn.multiclass import OneVsOneClassifier\n",
    "ovo_clf = OneVsOneClassifier(SGDClassifier(random_state=42, n_jobs=-1))\n",
    "ovo_clf.fit(X_train, y_train)\n",
    "print(ovo_clf.predict([some_digit]))\n",
    "print(len(ovo_clf.estimators_))"
   ]
  },
  {
   "cell_type": "code",
   "execution_count": 25,
   "metadata": {},
   "outputs": [
    {
     "data": {
      "text/plain": [
       "array(['5'], dtype=object)"
      ]
     },
     "execution_count": 25,
     "metadata": {},
     "output_type": "execute_result"
    }
   ],
   "source": [
    "forest_clf.fit(X_train, y_train)\n",
    "forest_clf.predict([some_digit])"
   ]
  },
  {
   "cell_type": "code",
   "execution_count": 26,
   "metadata": {},
   "outputs": [
    {
     "data": {
      "text/plain": [
       "array([[0.01, 0.  , 0.  , 0.01, 0.  , 0.94, 0.  , 0.  , 0.02, 0.02]])"
      ]
     },
     "execution_count": 26,
     "metadata": {},
     "output_type": "execute_result"
    }
   ],
   "source": [
    "forest_clf.predict_proba([some_digit])"
   ]
  },
  {
   "cell_type": "code",
   "execution_count": 27,
   "metadata": {},
   "outputs": [
    {
     "data": {
      "text/plain": [
       "array([0.87065, 0.8648 , 0.8593 ])"
      ]
     },
     "execution_count": 27,
     "metadata": {},
     "output_type": "execute_result"
    }
   ],
   "source": [
    "cross_val_score(sgd_clf, X_train, y_train, cv=3, scoring=\"accuracy\")"
   ]
  },
  {
   "cell_type": "code",
   "execution_count": 28,
   "metadata": {},
   "outputs": [
    {
     "name": "stderr",
     "output_type": "stream",
     "text": [
      "/home/cameron/.local/lib/python3.6/site-packages/sklearn/linear_model/_stochastic_gradient.py:557: ConvergenceWarning: Maximum number of iteration reached before convergence. Consider increasing max_iter to improve the fit.\n",
      "  ConvergenceWarning)\n"
     ]
    },
    {
     "data": {
      "text/plain": [
       "array([0.90315, 0.9037 , 0.90105])"
      ]
     },
     "execution_count": 28,
     "metadata": {},
     "output_type": "execute_result"
    }
   ],
   "source": [
    "from sklearn.preprocessing import StandardScaler\n",
    "scaler = StandardScaler()\n",
    "X_train_scaled = scaler.fit_transform(X_train.astype(np.float64))\n",
    "cross_val_score(sgd_clf, X_train_scaled, y_train, cv=3, scoring=\"accuracy\")"
   ]
  },
  {
   "cell_type": "markdown",
   "metadata": {},
   "source": [
    "# Error Analysis"
   ]
  },
  {
   "cell_type": "code",
   "execution_count": 29,
   "metadata": {},
   "outputs": [
    {
     "name": "stderr",
     "output_type": "stream",
     "text": [
      "/home/cameron/.local/lib/python3.6/site-packages/sklearn/linear_model/_stochastic_gradient.py:557: ConvergenceWarning: Maximum number of iteration reached before convergence. Consider increasing max_iter to improve the fit.\n",
      "  ConvergenceWarning)\n"
     ]
    },
    {
     "data": {
      "text/plain": [
       "array([[5621,    0,   15,   11,    9,   35,   31,    4,  196,    1],\n",
       "       [   1, 6422,   39,   23,    3,   44,    6,    9,  186,    9],\n",
       "       [  30,   27, 5259,   96,   71,   24,   64,   40,  337,   10],\n",
       "       [  30,   22,  105, 5284,    2,  207,   21,   45,  353,   62],\n",
       "       [  15,   14,   42,   13, 5248,   12,   39,   20,  282,  157],\n",
       "       [  32,   18,   24,  161,   53, 4518,   79,   20,  453,   63],\n",
       "       [  25,   20,   40,    3,   41,   92, 5564,    8,  124,    1],\n",
       "       [  18,   13,   54,   24,   53,   12,    5, 5712,  159,  215],\n",
       "       [  19,   67,   38,   99,    4,  133,   32,    8, 5400,   51],\n",
       "       [  23,   21,   29,   63,  125,   34,    1,  174,  349, 5130]])"
      ]
     },
     "execution_count": 29,
     "metadata": {},
     "output_type": "execute_result"
    }
   ],
   "source": [
    "y_train_pred = cross_val_predict(sgd_clf, X_train_scaled, y_train, cv=3)\n",
    "conf_mx = confusion_matrix(y_train, y_train_pred)\n",
    "conf_mx"
   ]
  },
  {
   "cell_type": "code",
   "execution_count": 30,
   "metadata": {},
   "outputs": [
    {
     "data": {
      "image/png": "[encoded data removed]",
      "text/plain": [
       "<Figure size 288x288 with 1 Axes>"
      ]
     },
     "metadata": {},
     "output_type": "display_data"
    }
   ],
   "source": [
    "plt.matshow(conf_mx, cmap=plt.cm.gray)\n",
    "plt.show()"
   ]
  },
  {
   "cell_type": "code",
   "execution_count": 31,
   "metadata": {},
   "outputs": [
    {
     "data": {
      "image/png": "[encoded data removed]",
      "text/plain": [
       "<Figure size 288x288 with 1 Axes>"
      ]
     },
     "metadata": {},
     "output_type": "display_data"
    }
   ],
   "source": [
    "'''\n",
    "5 class has the least true positives: fewer images of 5s in the dataset or\n",
    "that the classifier does not perform as well on 5s as on other digits.\n",
    "'''\n",
    "row_sums = conf_mx.sum(axis=1, keepdims=True)\n",
    "norm_conf_mx = conf_mx / row_sums\n",
    "np.fill_diagonal(norm_conf_mx, 0)\n",
    "plt.matshow(norm_conf_mx, cmap=plt.cm.gray)\n",
    "plt.show()"
   ]
  },
  {
   "cell_type": "code",
   "execution_count": 32,
   "metadata": {},
   "outputs": [
    {
     "name": "stderr",
     "output_type": "stream",
     "text": [
      "IOPub data rate exceeded.\n",
      "The notebook server will temporarily stop sending output\n",
      "to the client in order to avoid crashing it.\n",
      "To change this limit, set the config variable\n",
      "`--NotebookApp.iopub_data_rate_limit`.\n",
      "\n",
      "Current values:\n",
      "NotebookApp.iopub_data_rate_limit=1000000.0 (bytes/sec)\n",
      "NotebookApp.rate_limit_window=3.0 (secs)\n",
      "\n"
     ]
    },
    {
     "data": {
      "image/png": "[encoded data removed]",
      "text/plain": [
       "<Figure size 576x576 with 4 Axes>"
      ]
     },
     "metadata": {},
     "output_type": "display_data"
    }
   ],
   "source": [
    "cl_a, cl_b = '3','5'\n",
    "X_aa = X_train[(y_train == cl_a) & (y_train_pred == cl_a)]\n",
    "X_ab = X_train[(y_train == cl_a) & (y_train_pred == cl_b)]\n",
    "X_ba = X_train[(y_train == cl_b) & (y_train_pred == cl_a)]\n",
    "X_bb = X_train[(y_train == cl_b) & (y_train_pred == cl_b)]\n",
    "print(X_aa)\n",
    "\n",
    "def plot_digits(instances, images_per_row=10, **options):\n",
    "    size = 28\n",
    "    images_per_row = min(len(instances), images_per_row)\n",
    "    images = [instance.reshape(size,size) for instance in instances]\n",
    "    print(len(instances) - 1)\n",
    "#     n_rows = (len(instances) - 1) // images_per_row + 1\n",
    "#     row_images = []\n",
    "#     n_empty = n_rows * images_per_row - len(instances)\n",
    "#     images.append(np.zeros((size, size * n_empty)))\n",
    "#     for row in range(n_rows):\n",
    "#         rimages = images[row * images_per_row : (row + 1) * images_per_row]\n",
    "#         row_images.append(np.concatenate(rimages, axis=1))\n",
    "#     image = np.concatenate(row_images, axis=0)\n",
    "#     plt.imshow(image, cmap = matplotlib.cm.binary, **options)\n",
    "#     plt.axis(\"off\")\n",
    "\n",
    "plt.figure(figsize=(8,8))\n",
    "plt.subplot(221); plot_digits(X_aa[:25], images_per_row=5)\n",
    "plt.subplot(222); plot_digits(X_ab[:25], images_per_row=5)\n",
    "plt.subplot(223); plot_digits(X_ba[:25], images_per_row=5)\n",
    "plt.subplot(224); plot_digits(X_bb[:25], images_per_row=5)\n",
    "plt.show()"
   ]
  },
  {
   "cell_type": "markdown",
   "metadata": {},
   "source": [
    "# Multilabel Classification"
   ]
  },
  {
   "cell_type": "code",
   "execution_count": 33,
   "metadata": {},
   "outputs": [
    {
     "data": {
      "text/plain": [
       "array([[False,  True]])"
      ]
     },
     "execution_count": 33,
     "metadata": {},
     "output_type": "execute_result"
    }
   ],
   "source": [
    "from sklearn.neighbors import KNeighborsClassifier\n",
    "\n",
    "y_train_large = (y_train >= '7')\n",
    "y_train_odd = (y_train.astype(int) % 2 == 1)\n",
    "y_multilabel = np.c_[y_train_large, y_train_odd]\n",
    "#print(y_multilabel)\n",
    "\n",
    "knn_clf = KNeighborsClassifier()\n",
    "knn_clf.fit(X_train, y_multilabel)\n",
    "knn_clf.predict([some_digit])"
   ]
  },
  {
   "cell_type": "code",
   "execution_count": 34,
   "metadata": {},
   "outputs": [
    {
     "name": "stderr",
     "output_type": "stream",
     "text": [
      "[Parallel(n_jobs=-1)]: Using backend LokyBackend with 16 concurrent workers.\n"
     ]
    },
    {
     "name": "stdout",
     "output_type": "stream",
     "text": [
      "              precision    recall  f1-score   support\n",
      "\n",
      "           0       0.98      0.97      0.97     18065\n",
      "           1       0.97      0.99      0.98     30508\n",
      "\n",
      "   micro avg       0.98      0.98      0.98     48573\n",
      "   macro avg       0.98      0.98      0.98     48573\n",
      "weighted avg       0.98      0.98      0.98     48573\n",
      " samples avg       0.59      0.59      0.59     48573\n",
      "\n"
     ]
    },
    {
     "name": "stderr",
     "output_type": "stream",
     "text": [
      "[Parallel(n_jobs=-1)]: Done   3 out of   3 | elapsed: 11.6min finished\n",
      "/home/cameron/.local/lib/python3.6/site-packages/sklearn/metrics/_classification.py:1272: UndefinedMetricWarning: Precision and F-score are ill-defined and being set to 0.0 in samples with no predicted labels. Use `zero_division` parameter to control this behavior.\n",
      "  _warn_prf(average, modifier, msg_start, len(result))\n",
      "/home/cameron/.local/lib/python3.6/site-packages/sklearn/metrics/_classification.py:1272: UndefinedMetricWarning: Recall and F-score are ill-defined and being set to 0.0 in samples with no true labels. Use `zero_division` parameter to control this behavior.\n",
      "  _warn_prf(average, modifier, msg_start, len(result))\n"
     ]
    }
   ],
   "source": [
    "from sklearn.metrics import classification_report\n",
    "\n",
    "y_train_knn_pred = cross_val_predict(knn_clf, X_train, y_multilabel, cv=3, n_jobs=-1, verbose=2)\n",
    "f1_score(y_multilabel, y_train_knn_pred, average=\"macro\")\n",
    "\n",
    "print(classification_report(y_multilabel, y_train_knn_pred))"
   ]
  },
  {
   "cell_type": "markdown",
   "metadata": {},
   "source": [
    "# Multioutput Classification"
   ]
  },
  {
   "cell_type": "code",
   "execution_count": 35,
   "metadata": {},
   "outputs": [
    {
     "name": "stdout",
     "output_type": "stream",
     "text": [
      "[ 3 45 12 42  8 20 12 86 48 19 33  3 79  8 11 35 91 38 38 76 81 84 44 97\n",
      " 41  5 83 74 59 52 12  9 42 34 80 53 53 38 69 50 44 49 69 25 22 23 51 82\n",
      " 66 29  2 18 90 77 84 59 30  3 11 44 34 15 22 20 19 77 39  3 24 66 49 44\n",
      " 68 86 62 95 29 54 77 42 24  7 44 26 98 47 36 71 67 10 46 60 26  4 75 26\n",
      " 75 12  0 75 29 64 84 35 86 19 47 38 29 52 43 99 75 96 95 49 67 26 61 33\n",
      " 43 53 46 37 31 73  0 77 26 87 62 98 98 19 96 46 79 92 77 87 68  6 22 70\n",
      "  2 38 62 69 93 38 35 73 54 31 88 88 60 95 51 15 94 88 43 33 30 55  7 37\n",
      " 96  3 10 75 38 25 97 41 92 26 83 20  9 13 60 98 57 32 93 16 80 49 67 44\n",
      " 34 71 88 52 92 77 83 39 46 57 77 48 79  9 35 16 41 17 64 11 24 57 86 22\n",
      " 90 25 72 25  0 29 15 50 72 82 35 29 74 21 64 69 40 24 35 12 73 71  6 98\n",
      " 20  5 11 26  9 31  7 62 13 67 39 83 64 38 97  8 94 24 13 20 18 73 42  7\n",
      " 66 57 83  0 44 36 68 81 58 26 52 94 67 22 45 41 78 54 90 99 38 38 52 59\n",
      " 19 72 79 71  6 51 15 37 38 36 71 93 88 39  8 36 51 52 51 76 55 56 65 91\n",
      " 75 40 29 95  0  5 98 69 70 82 48 26 22 64 82 53 27 54 75 62 75 32 78  0\n",
      " 32 23 65 80 23 85 92 55 82 41 49 20 77 31  1 26 33 31 63 49 84 58 11 95\n",
      " 76 20 78 14 34 82 66 55 97 57 28 61 45 68 91 28 75 94 56 93 56 84 75 82\n",
      " 98 71 81 41 70 97 47 94  1 45 27 35 87 33 30 32 33 22 37 38 20  2 38 38\n",
      " 41 94 82 48 84 32 70 43 71 99 40 42 12 73 72 71 61 23 13 46 35 58 30 55\n",
      " 88 61 80 63  7  7 56 90 49 18 30 85 69 90 65 88 55 72 11 30 39 68 65 33\n",
      " 32 56 48 90 45 93 52 56 72  4 56 26 59  8 13  6 15 96 74 69 74 35 15 75\n",
      " 94 69 96 85 57 56 17 13 57 67 21 70 48 61  9 41 62 23 83  6 85 82 60 42\n",
      "  6 79 23 17 54  6  2 87 46 29 59  2 39 68 34 71 24 29 28 43 55  3 50 89\n",
      " 22 40 31 54 77 30 63 71  2 16  8 15 35 57 16 38 93 19 47 39 85 32 70 56\n",
      "  2 10 52 31 74 59 54 20 55 12 39 10  5 60 94 69 39  1 24 20 29 89 85  0\n",
      "  9  3 31 59 29 96 92 32 93 43 81 49 74  7 26 63 26 98 84  9 77 16 43 36\n",
      " 26 36 66 18  5 34 99 25 60 32  3 94 30 51  0 30 54 28 96 55 71 94 85 41\n",
      " 45 39 41 96 12 54 17 12 14 14 52 20 66 24 58  6 23 20 77 70 15 50 73 17\n",
      " 95 31 79 81 73 36 26 65 32 79 66 83 64 90 24 30 95 46 93 49 10 26 44 71\n",
      " 79 10 81 16 25 87 31 39 40 44 11 35 42  5 64 36 68 78 14 92 58 19 61 34\n",
      " 36 67 51 55 93  2 35 54 79 19 58 17 59 15 94 11 11 54 23 23 14 17 40 71\n",
      " 20 59 93 84 99 39 40 17  6 67 30 51 91 92 17 44 83 58 86 71 33 87 67 63\n",
      " 35 81 66 11 42 72 66 12 48 47 22 36 10 78 44 35 67 57 74 19 82 89 92 29\n",
      " 78 23 82 28 10 91 25  4 55 77 86 71 58 87 19 42]\n",
      "[  0.   0.   0.   0.   0.   0.   0.   0.   0.   0.   0.   0.   0.   0.\n",
      "   0.   0.   0.   0.   0.   0.   0.   0.   0.   0.   0.   0.   0.   0.\n",
      "   0.   0.   0.   0.   0.   0.   0.   0.   0.   0.   0.   0.   0.   0.\n",
      "   0.   0.   0.   0.   0.   0.   0.   0.   0.   0.   0.   0.   0.   0.\n",
      "   0.   0.   0.   0.   0.   0.   0.   0.   0.   0.   0.   0.   0.   0.\n",
      "   0.   0.   0.   0.   0.   0.   0.   0.   0.   0.   0.   0.   0.   0.\n",
      "   0.   0.   0.   0.   0.   0.   0.   0.   0.   0.   0.   0.   0.   0.\n",
      "   0.   0.   0.   0.   0.   0.   0.   0.   0.   0.   0.   0.   0.   0.\n",
      "   0.   0.   0.   0.   0.   0.   0.   0.   0.   0.   0.   0.   0.   0.\n",
      "   0.   0.   0.   0.   0.   0.   0.   0.   0.   0.   0.   0.   0.   0.\n",
      "   0.   0.   0.   0.   0.   0.   0.   0.   0.   0.   0.   0.   0.   0.\n",
      "   0.   0.   0.   0.   0. 203. 193.  51.   0.   0.   0.   0.   0.   0.\n",
      "   0.   0.   0.   0.   0.   0.   0.   0.   0.   0.   0.   0.   0.   0.\n",
      "   0.   0.   0.   0.  21. 223. 253. 151.   0.   0.   0.   0.   0.   0.\n",
      "   0.   0.   0.   0.   0.   0.   0.   0.   0. 123. 254. 131.   0.   0.\n",
      "   0.   0.   0.   0.  72. 253. 254. 151.   0.   0.   0.   0.   0.   0.\n",
      "   0.   0.   0.   0.   0.   0.   0.   0.  21. 223. 253. 252.   0.   0.\n",
      "   0.   0.   0.  41. 233. 252. 192.  50.   0.   0.   0.   0.   0.   0.\n",
      "   0.   0.   0.   0.   0.   0.   0.   0. 152. 253. 254. 192.   0.   0.\n",
      "   0.   0.  31. 233. 254. 253. 102.   0.   0.   0.   0.   0.   0.   0.\n",
      "   0.   0.   0.   0.   0.   0.   0.   0. 233. 252. 233.  50.   0.   0.\n",
      "   0.   0. 132. 252. 253. 212.  20.   0.   0.   0.   0.   0.   0.   0.\n",
      "   0.   0.   0.   0.   0.   0.   0. 163. 254. 253. 142.   0.   0.   0.\n",
      "   0.  62. 254. 253. 254.  50.   0.   0.   0.   0.   0.   0.   0.   0.\n",
      "   0.   0.   0.   0.   0.   0.   0. 203. 253. 212.  20.   0.   0.   0.\n",
      "   0. 183. 253. 252. 172.  10.   0.   0.   0.   0.   0.   0.   0.   0.\n",
      "   0.   0.   0.   0.   0.   0.  51. 253. 254. 131.   0.   0.   0.   0.\n",
      " 132. 253. 254. 233.   0.   0.   0.   0.   0.   0.   0.   0.   0.   0.\n",
      "   0.   0.   0.   0.   0.   0.  92. 252. 253. 212. 203. 203. 142. 183.\n",
      " 253. 252. 253. 232. 203. 203. 203. 162. 102. 102.  82.   0.   0.   0.\n",
      "   0.   0.   0.   0.   0.   0.  51. 253. 254. 253. 254. 253. 254. 253.\n",
      " 254. 253. 254. 253. 254. 253. 254. 253. 254. 253. 254. 112.   0.   0.\n",
      "   0.   0.   0.   0.   0.   0.  10. 131. 213. 252. 253. 252. 253. 252.\n",
      " 253. 252. 253. 171. 253. 252. 213. 252. 253. 252. 253. 111.   0.   0.\n",
      "   0.   0.   0.   0.   0.   0.   0.   0.   0.   0.   0.  21. 254. 253.\n",
      " 254. 131.   0.   0.   0.   0.   0.   0.   0.   0.   0.   0.   0.   0.\n",
      "   0.   0.   0.   0.   0.   0.   0.   0.   0.   0.   0. 142. 253. 252.\n",
      " 172.  10.   0.   0.   0.   0.   0.   0.   0.   0.   0.   0.   0.   0.\n",
      "   0.   0.   0.   0.   0.   0.   0.   0.   0.   0.  72. 253. 254. 233.\n",
      "   0.   0.   0.   0.   0.   0.   0.   0.   0.   0.   0.   0.   0.   0.\n",
      "   0.   0.   0.   0.   0.   0.   0.   0.   0.   0. 193. 252. 253.  70.\n",
      "   0.   0.   0.   0.   0.   0.   0.   0.   0.   0.   0.   0.   0.   0.\n",
      "   0.   0.   0.   0.   0.   0.   0.   0.   0. 102. 255. 253. 123.   0.\n",
      "   0.   0.   0.   0.   0.   0.   0.   0.   0.   0.   0.   0.   0.   0.\n",
      "   0.   0.   0.   0.   0.   0.   0.   0.   0. 142. 253. 252.   0.   0.\n",
      "   0.   0.   0.   0.   0.   0.   0.   0.   0.   0.   0.   0.   0.   0.\n",
      "   0.   0.   0.   0.   0.   0.   0.   0.   0. 203. 255. 253.   0.   0.\n",
      "   0.   0.   0.   0.   0.   0.   0.   0.   0.   0.   0.   0.   0.   0.\n",
      "   0.   0.   0.   0.   0.   0.   0.   0.   0. 162. 253. 171.   0.   0.\n",
      "   0.   0.   0.   0.   0.   0.   0.   0.   0.   0.   0.   0.   0.   0.\n",
      "   0.   0.   0.   0.   0.   0.   0.   0.   0.   0.   0.   0.   0.   0.\n",
      "   0.   0.   0.   0.   0.   0.   0.   0.   0.   0.   0.   0.   0.   0.\n",
      "   0.   0.   0.   0.   0.   0.   0.   0.   0.   0.   0.   0.   0.   0.\n",
      "   0.   0.   0.   0.   0.   0.   0.   0.   0.   0.   0.   0.   0.   0.\n",
      "   0.   0.   0.   0.   0.   0.   0.   0.   0.   0.   0.   0.   0.   0.\n",
      "   0.   0.   0.   0.   0.   0.   0.   0.   0.   0.   0.   0.   0.   0.]\n"
     ]
    }
   ],
   "source": [
    "noise = np.random.randint(0, 100, (len(X_train), 784))\n",
    "print(noise[5500])\n",
    "print(X_test[5500])\n",
    "X_train_mod = X_train + noise\n",
    "noise = np.random.randint(0, 100, (len(X_test), 784))\n",
    "X_test_mod = X_test + noise\n",
    "y_train_mod = X_train\n",
    "y_test_mod = X_test"
   ]
  },
  {
   "cell_type": "code",
   "execution_count": 36,
   "metadata": {},
   "outputs": [
    {
     "data": {
      "image/png": "[encoded data removed]",
      "text/plain": [
       "<Figure size 432x288 with 2 Axes>"
      ]
     },
     "metadata": {},
     "output_type": "display_data"
    }
   ],
   "source": [
    "def plot_digit(data):\n",
    "    image = data.reshape(28, 28)\n",
    "    plt.imshow(image, cmap = matplotlib.cm.binary,\n",
    "               interpolation=\"nearest\")\n",
    "    plt.axis(\"off\")\n",
    "\n",
    "some_index = 5500\n",
    "plt.subplot(121); plot_digit(X_test_mod[some_index])\n",
    "plt.subplot(122); plot_digit(y_test_mod[some_index])\n",
    "plt.show()"
   ]
  },
  {
   "cell_type": "code",
   "execution_count": 37,
   "metadata": {},
   "outputs": [
    {
     "data": {
      "image/png": "[encoded data removed]",
      "text/plain": [
       "<Figure size 432x288 with 1 Axes>"
      ]
     },
     "metadata": {},
     "output_type": "display_data"
    }
   ],
   "source": [
    "knn_clf.fit(X_train_mod, y_train_mod)\n",
    "clean_digit = knn_clf.predict([X_test_mod[some_index]])\n",
    "plot_digit(clean_digit)"
   ]
  },
  {
   "cell_type": "markdown",
   "metadata": {},
   "source": [
    "# Exercise 1"
   ]
  },
  {
   "cell_type": "code",
   "execution_count": 38,
   "metadata": {},
   "outputs": [
    {
     "data": {
      "text/plain": [
       "\"\\n0.9665574650962732 {'algorithm': 'ball_tree', 'n_jobs': -1, 'n_neighbors': 2, 'weights': 'uniform'}\\n0.9721368216460068 {'algorithm': 'ball_tree', 'n_jobs': -1, 'n_neighbors': 2, 'weights': 'distance'}\\n0.9718453237698546 {'algorithm': 'ball_tree', 'n_jobs': -1, 'n_neighbors': 5, 'weights': 'uniform'}\\n0.9727366892775592 {'algorithm': 'ball_tree', 'n_jobs': -1, 'n_neighbors': 5, 'weights': 'distance'}\\n0.9693210682396897 {'algorithm': 'ball_tree', 'n_jobs': -1, 'n_neighbors': 10, 'weights': 'uniform'}\\n0.9709188088266357 {'algorithm': 'ball_tree', 'n_jobs': -1, 'n_neighbors': 10, 'weights': 'distance'}\\n0.9622369770487933 {'algorithm': 'ball_tree', 'n_jobs': -1, 'n_neighbors': 30, 'weights': 'uniform'}\\n0.9633016142413549 {'algorithm': 'ball_tree', 'n_jobs': -1, 'n_neighbors': 30, 'weights': 'distance'}\\n0.9665574650962732 {'algorithm': 'kd_tree', 'n_jobs': -1, 'n_neighbors': 2, 'weights': 'uniform'}\\n0.9721368216460068 {'algorithm': 'kd_tree', 'n_jobs': -1, 'n_neighbors': 2, 'weights': 'distance'}\\n0.9718453237698546 {'algorithm': 'kd_tree', 'n_jobs': -1, 'n_neighbors': 5, 'weights': 'uniform'}\\n0.9727366892775592 {'algorithm': 'kd_tree', 'n_jobs': -1, 'n_neighbors': 5, 'weights': 'distance'}\\n0.9693210682396897 {'algorithm': 'kd_tree', 'n_jobs': -1, 'n_neighbors': 10, 'weights': 'uniform'}\\n0.9709188088266357 {'algorithm': 'kd_tree', 'n_jobs': -1, 'n_neighbors': 10, 'weights': 'distance'}\\n0.9622369770487933 {'algorithm': 'kd_tree', 'n_jobs': -1, 'n_neighbors': 30, 'weights': 'uniform'}\\n0.9633016142413549 {'algorithm': 'kd_tree', 'n_jobs': -1, 'n_neighbors': 30, 'weights': 'distance'}\\n0.9665574650962732 {'algorithm': 'brute', 'n_jobs': -1, 'n_neighbors': 2, 'weights': 'uniform'}\\n0.9721368216460068 {'algorithm': 'brute', 'n_jobs': -1, 'n_neighbors': 2, 'weights': 'distance'}\\n0.9718453237698546 {'algorithm': 'brute', 'n_jobs': -1, 'n_neighbors': 5, 'weights': 'uniform'}\\n0.9727366892775592 {'algorithm': 'brute', 'n_jobs': -1, 'n_neighbors': 5, 'weights': 'distance'}\\n0.9693210682396897 {'algorithm': 'brute', 'n_jobs': -1, 'n_neighbors': 10, 'weights': 'uniform'}\\n0.9709188088266357 {'algorithm': 'brute', 'n_jobs': -1, 'n_neighbors': 10, 'weights': 'distance'}\\n0.9622369770487933 {'algorithm': 'brute', 'n_jobs': -1, 'n_neighbors': 30, 'weights': 'uniform'}\\n0.9633016142413549 {'algorithm': 'brute', 'n_jobs': -1, 'n_neighbors': 30, 'weights': 'distance'}\\n\""
      ]
     },
     "execution_count": 38,
     "metadata": {},
     "output_type": "execute_result"
    }
   ],
   "source": [
    "# from sklearn.model_selection import GridSearchCV\n",
    "\n",
    "# param_grid = [\n",
    "#     {'algorithm': ['ball_tree', 'kd_tree', 'brute'], 'weights': ['uniform', 'distance'], 'n_neighbors': [2, 5, 10, 30], 'n_jobs': [-1]}\n",
    "# ]\n",
    "\n",
    "# grid_search = GridSearchCV(KNeighborsClassifier(), param_grid, cv=5, scoring='accuracy', verbose=2)\n",
    "# grid_search.fit(X_train_scaled, y_train)\n",
    "\n",
    "# cvres = grid_search.cv_results_\n",
    "# for mean_score, params in zip(cvres[\"mean_test_score\"], cvres[\"params\"]):\n",
    "#     print(np.sqrt(mean_score), params)\n",
    "    \n",
    "'''\n",
    "0.9665574650962732 {'algorithm': 'ball_tree', 'n_jobs': -1, 'n_neighbors': 2, 'weights': 'uniform'}\n",
    "0.9721368216460068 {'algorithm': 'ball_tree', 'n_jobs': -1, 'n_neighbors': 2, 'weights': 'distance'}\n",
    "0.9718453237698546 {'algorithm': 'ball_tree', 'n_jobs': -1, 'n_neighbors': 5, 'weights': 'uniform'}\n",
    "0.9727366892775592 {'algorithm': 'ball_tree', 'n_jobs': -1, 'n_neighbors': 5, 'weights': 'distance'}\n",
    "0.9693210682396897 {'algorithm': 'ball_tree', 'n_jobs': -1, 'n_neighbors': 10, 'weights': 'uniform'}\n",
    "0.9709188088266357 {'algorithm': 'ball_tree', 'n_jobs': -1, 'n_neighbors': 10, 'weights': 'distance'}\n",
    "0.9622369770487933 {'algorithm': 'ball_tree', 'n_jobs': -1, 'n_neighbors': 30, 'weights': 'uniform'}\n",
    "0.9633016142413549 {'algorithm': 'ball_tree', 'n_jobs': -1, 'n_neighbors': 30, 'weights': 'distance'}\n",
    "0.9665574650962732 {'algorithm': 'kd_tree', 'n_jobs': -1, 'n_neighbors': 2, 'weights': 'uniform'}\n",
    "0.9721368216460068 {'algorithm': 'kd_tree', 'n_jobs': -1, 'n_neighbors': 2, 'weights': 'distance'}\n",
    "0.9718453237698546 {'algorithm': 'kd_tree', 'n_jobs': -1, 'n_neighbors': 5, 'weights': 'uniform'}\n",
    "0.9727366892775592 {'algorithm': 'kd_tree', 'n_jobs': -1, 'n_neighbors': 5, 'weights': 'distance'}\n",
    "0.9693210682396897 {'algorithm': 'kd_tree', 'n_jobs': -1, 'n_neighbors': 10, 'weights': 'uniform'}\n",
    "0.9709188088266357 {'algorithm': 'kd_tree', 'n_jobs': -1, 'n_neighbors': 10, 'weights': 'distance'}\n",
    "0.9622369770487933 {'algorithm': 'kd_tree', 'n_jobs': -1, 'n_neighbors': 30, 'weights': 'uniform'}\n",
    "0.9633016142413549 {'algorithm': 'kd_tree', 'n_jobs': -1, 'n_neighbors': 30, 'weights': 'distance'}\n",
    "0.9665574650962732 {'algorithm': 'brute', 'n_jobs': -1, 'n_neighbors': 2, 'weights': 'uniform'}\n",
    "0.9721368216460068 {'algorithm': 'brute', 'n_jobs': -1, 'n_neighbors': 2, 'weights': 'distance'}\n",
    "0.9718453237698546 {'algorithm': 'brute', 'n_jobs': -1, 'n_neighbors': 5, 'weights': 'uniform'}\n",
    "0.9727366892775592 {'algorithm': 'brute', 'n_jobs': -1, 'n_neighbors': 5, 'weights': 'distance'}\n",
    "0.9693210682396897 {'algorithm': 'brute', 'n_jobs': -1, 'n_neighbors': 10, 'weights': 'uniform'}\n",
    "0.9709188088266357 {'algorithm': 'brute', 'n_jobs': -1, 'n_neighbors': 10, 'weights': 'distance'}\n",
    "0.9622369770487933 {'algorithm': 'brute', 'n_jobs': -1, 'n_neighbors': 30, 'weights': 'uniform'}\n",
    "0.9633016142413549 {'algorithm': 'brute', 'n_jobs': -1, 'n_neighbors': 30, 'weights': 'distance'}\n",
    "'''"
   ]
  },
  {
   "cell_type": "code",
   "execution_count": 39,
   "metadata": {},
   "outputs": [
    {
     "data": {
      "text/plain": [
       "\"\\nKNeighborsClassifier(algorithm='ball_tree', leaf_size=30, metric='minkowski',\\n                     metric_params=None, n_jobs=-1, n_neighbors=5, p=2,\\n                     weights='distance')\\n\""
      ]
     },
     "execution_count": 39,
     "metadata": {},
     "output_type": "execute_result"
    }
   ],
   "source": [
    "# grid_search.best_estimator_\n",
    "'''\n",
    "KNeighborsClassifier(algorithm='ball_tree', leaf_size=30, metric='minkowski',\n",
    "                     metric_params=None, n_jobs=-1, n_neighbors=5, p=2,\n",
    "                     weights='distance')\n",
    "'''"
   ]
  },
  {
   "cell_type": "markdown",
   "metadata": {},
   "source": [
    "# Exercise 2"
   ]
  },
  {
   "cell_type": "code",
   "execution_count": 40,
   "metadata": {},
   "outputs": [
    {
     "name": "stderr",
     "output_type": "stream",
     "text": [
      "[Parallel(n_jobs=-1)]: Using backend LokyBackend with 16 concurrent workers.\n"
     ]
    },
    {
     "name": "stdout",
     "output_type": "stream",
     "text": [
      "CV Score: [0.8154875 0.763025  0.7737   ]\n"
     ]
    },
    {
     "name": "stderr",
     "output_type": "stream",
     "text": [
      "[Parallel(n_jobs=-1)]: Done   3 out of   3 | elapsed:  5.4min remaining:    0.0s\n",
      "[Parallel(n_jobs=-1)]: Done   3 out of   3 | elapsed:  5.4min finished\n"
     ]
    },
    {
     "data": {
      "text/plain": [
       "'\\n       [[21215,     4,   237,   261,    36,  1012,   283,    69,   499,   76],\\n       [    71, 23716,   183,   379,   126,   299,  1597,    39,   493,   65],\\n       [   191,   218, 19698,   904,   260,   543,   810,   346,   712,   150],\\n       [  152,    158,  1092, 18422,    75,  2809,   243,   309,   877,   387],\\n       [   80,    223,   345,   123, 19965,   607,   469,   172,   418,   966],\\n       [  450,     74,   299,   985,   336, 17374,   934,    93,   954,   185],\\n       [  206,    113,   562,    83,   203,   949, 21095,    30,   399,   32],\\n       [  239,    312,   568,   368,   498,   399,    46, 20943,   360,   1327],\\n       [  280,    498,   444,  1602,   219,  4459,   444,   150, 14763,   545],\\n       [  168,    376,   234,   746,  2216,  1195,    32,  1380,   890,   16559]])\\n'"
      ]
     },
     "execution_count": 40,
     "metadata": {},
     "output_type": "execute_result"
    }
   ],
   "source": [
    "from scipy.ndimage.interpolation import shift\n",
    "\n",
    "def shift_pixel(x_train, direction):\n",
    "    shifted_array = []\n",
    "    if direction == 'UP':\n",
    "        for i in x_train:\n",
    "            reshape = i.reshape(28,28)\n",
    "            shifted_image = shift(reshape, [-1,0], cval=0)\n",
    "            shifted_image = shifted_image.reshape(784,)\n",
    "            shifted_array.append(shifted_image)\n",
    "    if direction == 'DOWN':\n",
    "        for i in x_train:\n",
    "            reshape = i.reshape(28,28)\n",
    "            shifted_image = shift(reshape, [1,0], cval=0)\n",
    "            shifted_image = shifted_image.reshape(784,)\n",
    "            shifted_array.append(shifted_image)\n",
    "    if direction == 'LEFT':\n",
    "        for i in x_train:\n",
    "            reshape = i.reshape(28,28)\n",
    "            shifted_image = shift(reshape, [0,-1], cval=0)\n",
    "            shifted_image = shifted_image.reshape(784,)\n",
    "            shifted_array.append(shifted_image)\n",
    "    if direction == 'RIGHT':\n",
    "        for i in x_train:\n",
    "            reshape = i.reshape(28,28)\n",
    "            shifted_image = shift(reshape, [0,1], cval=0)\n",
    "            shifted_image = shifted_image.reshape(784,)\n",
    "            shifted_array.append(shifted_image)\n",
    "    return shifted_array\n",
    "\n",
    "shifted_up, shifted_down, shifted_left, shifted_right = X_train, X_train, X_train, X_train\n",
    "shifted_y = np.concatenate((y_train, y_train, y_train, y_train, y_train), axis=0)\n",
    "\n",
    "shifted_up = shift_pixel(shifted_up, 'UP')\n",
    "shifted_down = shift_pixel(shifted_down, 'DOWN')\n",
    "shifted_left = shift_pixel(shifted_left, 'LEFT')\n",
    "shifted_right = shift_pixel(shifted_right, 'RIGHT')\n",
    "\n",
    "# for i in X_train[0:2]:\n",
    "#     digit_image = i.reshape(28,28)\n",
    "#     plt.imshow(digit_image, cmap=matplotlib.cm.binary,\n",
    "#               interpolation=\"nearest\")\n",
    "#     plt.axis(\"on\")\n",
    "#     plt.show()\n",
    "    \n",
    "# for i in shifted_up[0:2]:\n",
    "#     digit_image = i.reshape(28,28)\n",
    "#     plt.imshow(digit_image, cmap=matplotlib.cm.binary,\n",
    "#               interpolation=\"nearest\")\n",
    "#     plt.axis(\"on\")\n",
    "#     plt.show()\n",
    "\n",
    "shifted_train = []\n",
    "shifted_entries = [X_train, shifted_up, shifted_down, shifted_left, shifted_right]\n",
    "for x in shifted_entries:\n",
    "    for y in x:\n",
    "        shifted_train.append(y)\n",
    "        \n",
    "shifted_x = np.asarray(shifted_train)\n",
    "shifted_y = np.asarray(shifted_y)\n",
    "# print(shifted_x.shape)\n",
    "# print(shifted_y.shape)\n",
    "\n",
    "X_train_shifted, X_test_shifted, y_train_shifted, y_test_shifted = \\\n",
    "        shifted_x[:240000], shifted_x[240000:], shifted_y[:240000], shifted_y[240000:]\n",
    "\n",
    "###############################\n",
    "# Stochastic Gradient Descent #\n",
    "###############################\n",
    "shifted_sgd_clf = SGDClassifier(random_state=42, n_jobs=-1)\n",
    "\n",
    "# print(y_train_shifted[59274])\n",
    "# shifted_sgd_clf.fit(X_train_shifted, y_train_shifted)\n",
    "# yeet_score = shifted_sgd_clf.predict([X_train_shifted[59274]])\n",
    "# print(\"SGD predict: {}\".format(yeet_score))\n",
    "\n",
    "cross_score = cross_val_score(shifted_sgd_clf, X_train_shifted, y_train_shifted, cv=3, scoring=\"accuracy\", n_jobs=-1, \\\n",
    "                              verbose=4)\n",
    "print(\"CV Score: {}\".format(cross_score))\n",
    "# CV Score: [0.8167375 0.802225  0.8029125]\n",
    "# CV Score: [0.82235   0.8171875 0.8171   ]\n",
    "\n",
    "# y_train_pred_shifted = cross_val_predict(shifted_sgd_clf, X_train_shifted, y_train_shifted, cv=3, n_jobs=-1, \\\n",
    "#                                         verbose=4)\n",
    "# conf_mx_shifted = confusion_matrix(y_train_shifted, y_train_pred_shifted)\n",
    "# conf_mx_shifted\n",
    "\n",
    "'''\n",
    "       [[21215,     4,   237,   261,    36,  1012,   283,    69,   499,   76],\n",
    "       [    71, 23716,   183,   379,   126,   299,  1597,    39,   493,   65],\n",
    "       [   191,   218, 19698,   904,   260,   543,   810,   346,   712,   150],\n",
    "       [  152,    158,  1092, 18422,    75,  2809,   243,   309,   877,   387],\n",
    "       [   80,    223,   345,   123, 19965,   607,   469,   172,   418,   966],\n",
    "       [  450,     74,   299,   985,   336, 17374,   934,    93,   954,   185],\n",
    "       [  206,    113,   562,    83,   203,   949, 21095,    30,   399,   32],\n",
    "       [  239,    312,   568,   368,   498,   399,    46, 20943,   360,   1327],\n",
    "       [  280,    498,   444,  1602,   219,  4459,   444,   150, 14763,   545],\n",
    "       [  168,    376,   234,   746,  2216,  1195,    32,  1380,   890,   16559]])\n",
    "'''"
   ]
  },
  {
   "cell_type": "code",
   "execution_count": 41,
   "metadata": {},
   "outputs": [
    {
     "data": {
      "text/plain": [
       "\"\\nRandomForestClassifier(bootstrap=False, ccp_alpha=0.0, class_weight='balanced',\\n                       criterion='gini', max_depth=None, max_features='sqrt',\\n                       max_leaf_nodes=None, max_samples=None,\\n                       min_impurity_decrease=0.0, min_impurity_split=None,\\n                       min_samples_leaf=1, min_samples_split=2,\\n                       min_weight_fraction_leaf=0.0, n_estimators=200,\\n                       n_jobs=-1, oob_score=False, random_state=42, verbose=0,\\n                       warm_start=False)\\n\""
      ]
     },
     "execution_count": 41,
     "metadata": {},
     "output_type": "execute_result"
    }
   ],
   "source": [
    "from sklearn.model_selection import GridSearchCV\n",
    "from sklearn.ensemble import RandomForestClassifier\n",
    "\n",
    "############################\n",
    "# Random Forest Classifier #\n",
    "############################\n",
    "# shifted_rfc = RandomForestClassifier(bootstrap=False, class_weight='balanced', max_features='sqrt', \\\n",
    "#                                      n_estimators=200, random_state=42, n_jobs=-1)\n",
    "# shifted_rfc.fit(X_train_shifted, y_train_shifted)\n",
    "# y_train_pred_shifted_rfc = cross_val_predict(shifted_rfc, X_train_shifted, y_train_shifted, cv=5, \\\n",
    "#                                         verbose=4)\n",
    "\n",
    "# shifted_rfc_param_grid = [\n",
    "#     { 'n_estimators': [10, 50, 100, 200], 'max_features': ['sqrt', 'log2'], 'bootstrap': [True, False], 'class_weight': ['balanced', 'balanced_subsample'], 'random_state': [42]}\n",
    "# ]\n",
    "\n",
    "# shifted_rfc_grid_search = GridSearchCV(RandomForestClassifier(), shifted_rfc_param_grid, cv=5, scoring='accuracy', verbose=2, n_jobs=10)\n",
    "# shifted_rfc_grid_search.fit(X_train_shifted, y_train_shifted)\n",
    "\n",
    "# shifted_cvres = shifted_rfc_grid_search.cv_results_\n",
    "# for mean_score, params in zip(shifted_cvres[\"mean_test_score\"], shifted_cvres[\"params\"]):\n",
    "#     print(np.sqrt(mean_score), params)\n",
    "    \n",
    "'''\n",
    "0.9753482284121229 {'bootstrap': True, 'class_weight': 'balanced', 'max_features': 'sqrt', 'n_estimators': 10, 'n_jobs': -1, 'random_state': 42}\n",
    "0.9853446943413593 {'bootstrap': True, 'class_weight': 'balanced', 'max_features': 'sqrt', 'n_estimators': 50, 'n_jobs': -1, 'random_state': 42}\n",
    "0.9864667590277265 {'bootstrap': True, 'class_weight': 'balanced', 'max_features': 'sqrt', 'n_estimators': 100, 'n_jobs': -1, 'random_state': 42}\n",
    "0.9869333817436717 {'bootstrap': True, 'class_weight': 'balanced', 'max_features': 'sqrt', 'n_estimators': 200, 'n_jobs': -1, 'random_state': 42}\n",
    "0.9690760204098198 {'bootstrap': True, 'class_weight': 'balanced', 'max_features': 'log2', 'n_estimators': 10, 'n_jobs': -1, 'random_state': 42}\n",
    "0.9832026749353361 {'bootstrap': True, 'class_weight': 'balanced', 'max_features': 'log2', 'n_estimators': 50, 'n_jobs': -1, 'random_state': 42}\n",
    "0.9847652004412016 {'bootstrap': True, 'class_weight': 'balanced', 'max_features': 'log2', 'n_estimators': 100, 'n_jobs': -1, 'random_state': 42}\n",
    "0.9854800014882764 {'bootstrap': True, 'class_weight': 'balanced', 'max_features': 'log2', 'n_estimators': 200, 'n_jobs': -1, 'random_state': 42}\n",
    "0.9753183241041529 {'bootstrap': True, 'class_weight': 'balanced_subsample', 'max_features': 'sqrt', 'n_estimators': 10, 'n_jobs': -1, 'random_state': 42}\n",
    "0.9854715453358696 {'bootstrap': True, 'class_weight': 'balanced_subsample', 'max_features': 'sqrt', 'n_estimators': 50, 'n_jobs': -1, 'random_state': 42}\n",
    "0.9864773185431077 {'bootstrap': True, 'class_weight': 'balanced_subsample', 'max_features': 'sqrt', 'n_estimators': 100, 'n_jobs': -1, 'random_state': 42}\n",
    "0.9869122723592676 {'bootstrap': True, 'class_weight': 'balanced_subsample', 'max_features': 'sqrt', 'n_estimators': 200, 'n_jobs': -1, 'random_state': 42}\n",
    "0.9688094067806458 {'bootstrap': True, 'class_weight': 'balanced_subsample', 'max_features': 'log2', 'n_estimators': 10, 'n_jobs': -1, 'random_state': 42}\n",
    "0.983291665783861 {'bootstrap': True, 'class_weight': 'balanced_subsample', 'max_features': 'log2', 'n_estimators': 50, 'n_jobs': -1, 'random_state': 42}\n",
    "0.9846763427644639 {'bootstrap': True, 'class_weight': 'balanced_subsample', 'max_features': 'log2', 'n_estimators': 100, 'n_jobs': -1, 'random_state': 42}\n",
    "0.9854504046373922 {'bootstrap': True, 'class_weight': 'balanced_subsample', 'max_features': 'log2', 'n_estimators': 200, 'n_jobs': -1, 'random_state': 42}\n",
    "0.9794343605707666 {'bootstrap': False, 'class_weight': 'balanced', 'max_features': 'sqrt', 'n_estimators': 10, 'n_jobs': -1, 'random_state': 42}\n",
    "0.9881084623326194 {'bootstrap': False, 'class_weight': 'balanced', 'max_features': 'sqrt', 'n_estimators': 50, 'n_jobs': -1, 'random_state': 42}\n",
    "0.988810312109119 {'bootstrap': False, 'class_weight': 'balanced', 'max_features': 'sqrt', 'n_estimators': 100, 'n_jobs': -1, 'random_state': 42}\n",
    "0.9892421341612984 {'bootstrap': False, 'class_weight': 'balanced', 'max_features': 'sqrt', 'n_estimators': 200, 'n_jobs': -1, 'random_state': 42}\n",
    "0.9738390524106126 {'bootstrap': False, 'class_weight': 'balanced', 'max_features': 'log2', 'n_estimators': 10, 'n_jobs': -1, 'random_state': 42}\n",
    "0.9858815851815065 {'bootstrap': False, 'class_weight': 'balanced', 'max_features': 'log2', 'n_estimators': 50, 'n_jobs': -1, 'random_state': 42}\n",
    "0.9871866591481067 {'bootstrap': False, 'class_weight': 'balanced', 'max_features': 'log2', 'n_estimators': 100, 'n_jobs': -1, 'random_state': 42}\n",
    "0.9877837145178425 {'bootstrap': False, 'class_weight': 'balanced', 'max_features': 'log2', 'n_estimators': 200, 'n_jobs': -1, 'random_state': 42}\n",
    "0.9794343605707666 {'bootstrap': False, 'class_weight': 'balanced_subsample', 'max_features': 'sqrt', 'n_estimators': 10, 'n_jobs': -1, 'random_state': 42}\n",
    "0.9881084623326194 {'bootstrap': False, 'class_weight': 'balanced_subsample', 'max_features': 'sqrt', 'n_estimators': 50, 'n_jobs': -1, 'random_state': 42}\n",
    "0.988810312109119 {'bootstrap': False, 'class_weight': 'balanced_subsample', 'max_features': 'sqrt', 'n_estimators': 100, 'n_jobs': -1, 'random_state': 42}\n",
    "0.9892421341612984 {'bootstrap': False, 'class_weight': 'balanced_subsample', 'max_features': 'sqrt', 'n_estimators': 200, 'n_jobs': -1, 'random_state': 42}\n",
    "0.9738390524106126 {'bootstrap': False, 'class_weight': 'balanced_subsample', 'max_features': 'log2', 'n_estimators': 10, 'n_jobs': -1, 'random_state': 42}\n",
    "0.9858815851815065 {'bootstrap': False, 'class_weight': 'balanced_subsample', 'max_features': 'log2', 'n_estimators': 50, 'n_jobs': -1, 'random_state': 42}\n",
    "0.9871866591481067 {'bootstrap': False, 'class_weight': 'balanced_subsample', 'max_features': 'log2', 'n_estimators': 100, 'n_jobs': -1, 'random_state': 42}\n",
    "0.9877837145178425 {'bootstrap': False, 'class_weight': 'balanced_subsample', 'max_features': 'log2', 'n_estimators': 200, 'n_jobs': -1, 'random_state': 42}\n",
    "\n",
    "'''\n",
    "    \n",
    "# shifted_rfc_grid_search.best_estimator_\n",
    "'''\n",
    "RandomForestClassifier(bootstrap=False, ccp_alpha=0.0, class_weight='balanced',\n",
    "                       criterion='gini', max_depth=None, max_features='sqrt',\n",
    "                       max_leaf_nodes=None, max_samples=None,\n",
    "                       min_impurity_decrease=0.0, min_impurity_split=None,\n",
    "                       min_samples_leaf=1, min_samples_split=2,\n",
    "                       min_weight_fraction_leaf=0.0, n_estimators=200,\n",
    "                       n_jobs=-1, oob_score=False, random_state=42, verbose=0,\n",
    "                       warm_start=False)\n",
    "'''\n",
    "\n"
   ]
  },
  {
   "cell_type": "code",
   "execution_count": 42,
   "metadata": {},
   "outputs": [],
   "source": [
    "# predicted = []\n",
    "\n",
    "# for index in range(len(X_test_shifted)):\n",
    "#     predicted.append(shifted_rfc.predict([X_test_shifted[index]]))\n",
    "\n",
    "# print(predicted)\n",
    "# for index in range(len(predicted)):\n",
    "#     print(\"Predicted: {}    Actual: {}\".format(predicted[index], y_test_shifted[index]))\n",
    "\n",
    "# shifted_digit = shifted_rfc.predict([X_test_shifted[some_index]])\n",
    "# print(\"Predicted: {}\".format(shifted_digit))\n",
    "# print(\"Actual: {}\".format(y_test_shifted[4000]))"
   ]
  },
  {
   "cell_type": "code",
   "execution_count": 43,
   "metadata": {},
   "outputs": [
    {
     "data": {
      "text/plain": [
       "'\\n[[23475,     4,    18,    12,    16,    16,    53,     2,    66, 30],\\n[     2, 26692,   105,    28,    31,     7,    25,    47,    17, 14],\\n[    62,    19, 23309,    65,    60,     9,    32,   171,    86, 19],\\n[    24,    16,   214, 23751,     4,   143,     8,   153,   138, 73],\\n[    47,    25,    15,     5, 22859,     0,    80,    47,    34, 256],\\n[    59,     8,    39,   136,    26, 21136,   137,    15,    83, 45],\\n[    81,    27,     5,     0,    32,    76, 23407,     0,    44, 0],\\n[    11,    51,   154,    18,    75,     0,     1, 24529,    36, 185],\\n[    54,    42,    58,   113,    58,    92,    72,    11, 22694, 210],\\n[   100,    34,    19,   190,   155,    59,    12,   123,   113, 22991]])\\n'"
      ]
     },
     "execution_count": 43,
     "metadata": {},
     "output_type": "execute_result"
    }
   ],
   "source": [
    "# conf_mx_rfc_shifted = confusion_matrix(y_train_shifted, y_train_pred_shifted_rfc)\n",
    "# conf_mx_rfc_shifted\n",
    "\n",
    "'''\n",
    "[[23475,     4,    18,    12,    16,    16,    53,     2,    66, 30],\n",
    "[     2, 26692,   105,    28,    31,     7,    25,    47,    17, 14],\n",
    "[    62,    19, 23309,    65,    60,     9,    32,   171,    86, 19],\n",
    "[    24,    16,   214, 23751,     4,   143,     8,   153,   138, 73],\n",
    "[    47,    25,    15,     5, 22859,     0,    80,    47,    34, 256],\n",
    "[    59,     8,    39,   136,    26, 21136,   137,    15,    83, 45],\n",
    "[    81,    27,     5,     0,    32,    76, 23407,     0,    44, 0],\n",
    "[    11,    51,   154,    18,    75,     0,     1, 24529,    36, 185],\n",
    "[    54,    42,    58,   113,    58,    92,    72,    11, 22694, 210],\n",
    "[   100,    34,    19,   190,   155,    59,    12,   123,   113, 22991]])\n",
    "'''"
   ]
  },
  {
   "cell_type": "markdown",
   "metadata": {},
   "source": [
    "# Exercise 3"
   ]
  },
  {
   "cell_type": "code",
   "execution_count": null,
   "metadata": {},
   "outputs": [],
   "source": []
  }
 ],
 "metadata": {
  "kernelspec": {
   "display_name": "Python 3",
   "language": "python",
   "name": "python3"
  },
  "language_info": {
   "codemirror_mode": {
    "name": "ipython",
    "version": 3
   },
   "file_extension": ".py",
   "mimetype": "text/x-python",
   "name": "python",
   "nbconvert_exporter": "python",
   "pygments_lexer": "ipython3",
   "version": "3.6.9"
  }
 },
 "nbformat": 4,
 "nbformat_minor": 2
}
